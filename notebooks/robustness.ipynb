{
 "cells": [
  {
   "cell_type": "markdown",
   "id": "5e9867a1-ce87-4d44-9b62-88a39d965ee9",
   "metadata": {},
   "source": [
    "# Robustness"
   ]
  },
  {
   "cell_type": "code",
   "execution_count": 1,
   "id": "german-sarah",
   "metadata": {},
   "outputs": [],
   "source": [
    "import matplotlib.pyplot as plt\n",
    "import pandas as pd\n",
    "import numpy as np\n",
    "\n",
    "from tqdm import tqdm\n",
    "from itertools import product\n",
    "from copy import deepcopy\n",
    "\n",
    "from sklearn.linear_model import LogisticRegression\n",
    "from sklearn.metrics import confusion_matrix, classification_report\n",
    "\n",
    "import utility as uti\n",
    "\n",
    "import seaborn as sns\n",
    "sns.set_theme(style='darkgrid')"
   ]
  },
  {
   "cell_type": "code",
   "execution_count": 2,
   "id": "1e0ae107-aabc-406f-b409-813c80a4fe2c",
   "metadata": {},
   "outputs": [],
   "source": [
    "%%capture\n",
    "%run ./german.ipynb"
   ]
  },
  {
   "cell_type": "code",
   "execution_count": 3,
   "id": "reduced-vampire",
   "metadata": {},
   "outputs": [],
   "source": [
    "seed = 2021   # Keep results consistent through testing\n",
    "NEW = False   # True : recreate all data (can be very long), False : read data from disk"
   ]
  },
  {
   "cell_type": "markdown",
   "id": "third-flash",
   "metadata": {},
   "source": [
    "# Il est plutôt facile de faire dire ce que l'on veut à un modèle\n",
    "\n",
    "## Définition de *robustness*"
   ]
  },
  {
   "cell_type": "markdown",
   "id": "03f2d4e3-d608-45f0-9e4a-0776243ee2f8",
   "metadata": {},
   "source": [
    "Le concept de *robustness* est une notion importante en statistique et en économétrie qui existait déjà lorsque les modèles d'apprentissage machines sont apparus. Il est défini de la manière suivante :\n",
    "\n",
    "Un modèle est robuste s'il n'est pas affecté par la présence de valeurs aberrantes ou de déviation des hypothèses sur les données de départ.\n",
    "\n",
    "Cette définition a été contrainte d’évoluer afin de s’adapter à la nouvelle manière de mettre les modèles à jour. Si auparavant les modèles étaient entraînés au sein d'un laboratoire avec un grand contrôle des données d'entraînement, aujourd'hui les modèles se mettent à jour constamment et de façon automatisée. Cette automatisation induit une perte de contrôle stricte des données et une nouvelle vulnérabilité qui rendent nécessaire l’ajout d'un nouveau rôle pour la *robustness*.\n",
    "\n",
    "En apprentissage statistique, un modèle est dit robuste s'il n'est pas affecté par des données qui ne sont pas similaires à celles sur lesquelles le modèle s'est entraîné.\n",
    "\n",
    "Dans la plupart des cas, ces données sont spécifiquement construites par une entité malveillante dans le but de grandement impacter les résultats du modèle de départ. Cette nouvelle notion de *robustness* est pour cela nommée *adverserial robustness* (*adverserial* dans le sens conflictuel).\n",
    "\n",
    "Il existe trois catégorisations des attaques d'*adverserial robustness* qui répondent chacune à une question :\n",
    " - Qu’est-ce qui est attaqué ?\n",
    " - Comment est-il attaqué ?\n",
    " - Pourquoi est-il attaqué ?\n",
    " \n",
    "Tout comme les attaques de *privacy*, les attaques d'*adverserial robustness* sont catégorisés dans un premier temps entre les attaques sur modèle boîte blanche et sur modèle boîte noire. Un modèle boîte blanche est un modèle dont on peut prévoir le fonctionnement interne car on connaît toutes ces caractéristiques des éléments qui le composent. ([white box](https://fr.wikipedia.org/wiki/Bo%C3%AEte_blanche)) En apprentissage statistique cela correspond à un modèle où l'on a accès aux données d'entraînement et de test, à la structure, aux coefficients et toute autre information permettant de reproduire le modèle à l'identique. Au contraire, le modèle boite noire est un modèle pour lequel on a aucune visibilité sur le fonctionnement interne. Dans le cas du modèle boîte noire, on a ainsi seulement accès aux entrées et sorties du modèle. En apprentissage statistique le modèle de boîte noire correspond à la majorité des modèles commerciaux qui fonctionnent sous forme d'API (*Application Programming Interface*). L'utilisateur de ces modèles envoie des données au modèle en question et ne récupère que la sortie. Les attaques *adverserial robustness* contre des modèles boîtes blanches sont très faciles à mettre en œuvre et ces modèles sont très difficilement protégeables. Cette raison motive l'existence des modèles en boîte noire qui sont des modèles pouvant espérer être robustes aux attaques adversaires.\n",
    "\n",
    "### Qu’est-ce qui est attaqué ?\n",
    "Il existe différents types d’attaque selon la partie du modèle qui est ciblée. Les attaques d'évasion (*evasion attacks*) qui ajustent les données de test, les attaques d'empoisonnement (*poisining attacks*) qui ajustent les données d’entraînement, et les attaques d'exploration (*exploration attacks*) qui questionnent le modèle boite noire pour faire de la rétro-ingénierie, sont les trois grandes familles d’attaque.\n",
    "\n",
    "### Comment il est attaqué ?\n",
    "Les façons selon lesquelles le modèle est attaqué dépendent grandement de la quantité et du type d'information dont l'adversaire dispose.\n",
    "\n",
    "Avant l'entraînement :\n",
    "Selon s'il peut modifier la base d'entraînement ou uniquement ajouter de nouvelles données à celle-ci, l’adversaire pourra effectuer une *data modification* ou une *data injection*. Si en revanche il a accès au modèle, il pourra corrompre directement la logique de celui-ci (*logic corruption*).\n",
    "\n",
    "Après l'entraînement :\n",
    "Deux types d’attaque existent :\n",
    " - *Adaptative attacks* : Ces attaques consistent à modifier les entrées en multipliant les requêtes jusqu'à ce que la sortie convienne. On cherche alors à obtenir une sortie spécifique ou à créer des entrées sur lesquels le modèle se trompe.\n",
    " - *Non-adaptative attacks* : La modification des entrées se fait grâce à une connaissance préalable d'informations sur les données d'entraînement dans le même but que pour les attaques adaptatives.\n",
    " \n",
    "### Pourquoi il est attaqué ?\n",
    "La raison d'une attaque appartient à l’une des quatre grandes familles suivante:\n",
    " - Réduction de la qualité générale de prédiction d'un modèle\n",
    " - Engendrer une erreur de classification sur toutes les entrées\n",
    " - Engendrer une erreur de classification sur toute une classe d'entrée\n",
    " - Engendrer une erreur de classification sur une entrée précise\n",
    "\n",
    "[source](https://arxiv.org/pdf/1810.00069.pdf)\n",
    "\n",
    "Dans la suite nous allons mettre en oeuvre deux attaques :\n",
    " - une évasion contre un modèle boîte noire de type attaque adaptative ayant pour but d'engendrer une erreur de classification sur une entrée précise.\n",
    " - un empoisonnement contre un modèle boîte noire de type *data injection* ayant pour but d'engendrer une erreur de classification sur une entrée précise.\n"
   ]
  },
  {
   "cell_type": "markdown",
   "id": "listed-bloom",
   "metadata": {
    "tags": []
   },
   "source": [
    "# Description générale des différentes attaques et implémentation\n",
    "\n",
    "Le cas de figure est le suivant, on suppose que notre banque utilise le modèle de régression logistique développé dans l'article d'introduction. Celui-ci utilise une base d'entraînement de 800 personnes et les classe en fonction de leur capacité de remboursement (0 : capable de rembourser, 1 : incapable de rembourser). Dans cette optique, on peut tout à fait concevoir qu'un individu apprenant que son prêt a été refusé par le modèle va chercher à contourner celui-ci. Nous présentons ici deux cas de figure.\n"
   ]
  },
  {
   "cell_type": "markdown",
   "id": "fifth-plant",
   "metadata": {},
   "source": [
    "## Évasion\n",
    "\n",
    "On se place dans une situation où l'individu est en mesure de questionner le modèle sans contrainte. On peut imaginer un problème de sécurité qui cause la divulgation du modèle, l'utilisation par la banque d'un modèle open source ou l'utilisation d'un modèle annexe que l'on aurait calibré grâce à la méthode de *model extraction* (cf. l'article *privacy*). Le type d'attaque utilisé est une attaque adaptative donc on va chercher les variables les plus falsifiables et les modifier jusqu'à ce que l'individu refusé soit accepté.\n",
    "\n",
    "En observant les différentes variables on remarque que très peu d’entre elles peuvent être modifiées sans que cela soit vérifiable. La cause à cela est qu’il s’agit d’une base de données pour crédit, aussi les informations du client sont examinées avec précaution.\n",
    "On peut néanmoins supposer que les deux variables suivantes peuvent être falsifiées sans difficulté.\n",
    " - purpose : correspond à la finalité du prêt\n",
    " - personal_status : la condition de vie en couple\n",
    "\n",
    "L’attaque commence par choisir une personne dont le prêt a été refusé pour jouer le rôle d'adversaire :\n"
   ]
  },
  {
   "cell_type": "code",
   "execution_count": 4,
   "id": "9f6a61c7-1ed3-474c-a272-bd990a534a1a",
   "metadata": {},
   "outputs": [
    {
     "data": {
      "text/plain": [
       "account_check_status                                                     < 0 DM\n",
       "duration_in_month                                                            24\n",
       "credit_history                         existing credits paid back duly till now\n",
       "purpose                                                               car (new)\n",
       "credit_amount                                                              1207\n",
       "savings                                                            ... < 100 DM\n",
       "present_emp_since                                                  ... < 1 year\n",
       "installment_as_income_perc                                                    4\n",
       "sex                                                                      female\n",
       "personal_status                                                        divorced\n",
       "other_debtors                                                              none\n",
       "present_res_since                                                             4\n",
       "property                      if not A121 : building society savings agreeme...\n",
       "age                                                                          24\n",
       "other_installment_plans                                                    none\n",
       "housing                                                                    rent\n",
       "credits_this_bank                                                             1\n",
       "job                                                 skilled employee / official\n",
       "people_under_maintenance                                                      1\n",
       "telephone                                                                  none\n",
       "foreign_worker                                                              yes\n",
       "Name: 504, dtype: object"
      ]
     },
     "execution_count": 4,
     "metadata": {},
     "output_type": "execute_result"
    }
   ],
   "source": [
    "idx_default = np.where(logreg.predict(X_test))[0]\n",
    "\n",
    "np.random.seed(seed)\n",
    "adv_ind = X_test.iloc[np.random.choice(idx_default)]\n",
    "adv_ind"
   ]
  },
  {
   "cell_type": "markdown",
   "id": "1c1677ba-6b38-496e-bf46-00a602e2106c",
   "metadata": {},
   "source": [
    "Notre individu ci-dessus est une femme étrangère divorcée de 24 ans avec une personne à sa charge qui n'a pas remboursé toutes ces dettes. Elle se voit refuser son crédit pour une nouvelle voiture et cherche donc à modifier les variables difficilement vérifiables (ie `purpose` et `personal_status`) afin d’avoir une chance que son prêt soit accepté. Pour cela, elle utilise une méthode exhaustive en créant toutes les combinaisons possibles avec les variables difficilement vérifiables et les faire tester par le modèle dans l’espoir que l’une d’entre elle lui permette que son prêt soit accepté."
   ]
  },
  {
   "cell_type": "markdown",
   "id": "10800062-1073-406f-8cb9-a8cfec437ee6",
   "metadata": {},
   "source": [
    "Le modèle de régression logistique attribue un score dans l'intervalle [0,1] à chaque individu puis le place dans l'une des deux classes prêt accordé / prêt refusé en fonction du score obtenu. Aussi un score supérieur à 0.5 placera l'individu dans la catégorie 1 : prêt refusé, tandis qu'un score inférieur ou égal à 0.5 placera l'individu dans la catégorie 0 : prêt accepté."
   ]
  },
  {
   "cell_type": "code",
   "execution_count": 5,
   "id": "resident-holiday",
   "metadata": {},
   "outputs": [],
   "source": [
    "# variables that are difficults to verify\n",
    "var_columns = ['purpose', 'personal_status']\n",
    "\n",
    "# variables that are hard to falsify (all the other)\n",
    "fix_columns = [x for x in X.columns if x not in var_columns]\n",
    "\n",
    "# catesian product of all possibilities from variables that can change\n",
    "all_values = [X[col].unique() for col in var_columns]\n",
    "prod = list(product(*all_values))   \n",
    "\n",
    "# all possible entries that can be generated\n",
    "all_adv_ind = pd.DataFrame([adv_ind[fix_columns].tolist() + list(p) for p in prod],\n",
    "                      columns=fix_columns + var_columns)\n",
    "all_adv_ind = all_adv_ind[X.columns]\n",
    "\n",
    "# predict the score for all entries\n",
    "all_adv_ind['proba'] = logreg.predict_proba(all_adv_ind)[:, 1]"
   ]
  },
  {
   "cell_type": "code",
   "execution_count": 6,
   "id": "together-bidder",
   "metadata": {},
   "outputs": [
    {
     "data": {
      "text/html": [
       "<div>\n",
       "<style scoped>\n",
       "    .dataframe tbody tr th:only-of-type {\n",
       "        vertical-align: middle;\n",
       "    }\n",
       "\n",
       "    .dataframe tbody tr th {\n",
       "        vertical-align: top;\n",
       "    }\n",
       "\n",
       "    .dataframe thead th {\n",
       "        text-align: right;\n",
       "    }\n",
       "</style>\n",
       "<table border=\"1\" class=\"dataframe\">\n",
       "  <thead>\n",
       "    <tr style=\"text-align: right;\">\n",
       "      <th></th>\n",
       "      <th>account_check_status</th>\n",
       "      <th>duration_in_month</th>\n",
       "      <th>credit_history</th>\n",
       "      <th>purpose</th>\n",
       "      <th>credit_amount</th>\n",
       "      <th>savings</th>\n",
       "      <th>present_emp_since</th>\n",
       "      <th>installment_as_income_perc</th>\n",
       "      <th>sex</th>\n",
       "      <th>personal_status</th>\n",
       "      <th>...</th>\n",
       "      <th>age</th>\n",
       "      <th>other_installment_plans</th>\n",
       "      <th>housing</th>\n",
       "      <th>credits_this_bank</th>\n",
       "      <th>job</th>\n",
       "      <th>people_under_maintenance</th>\n",
       "      <th>telephone</th>\n",
       "      <th>foreign_worker</th>\n",
       "      <th>proba</th>\n",
       "      <th>diff</th>\n",
       "    </tr>\n",
       "  </thead>\n",
       "  <tbody>\n",
       "    <tr>\n",
       "      <th>12</th>\n",
       "      <td>&lt; 0 DM</td>\n",
       "      <td>24</td>\n",
       "      <td>existing credits paid back duly till now</td>\n",
       "      <td>car (used)</td>\n",
       "      <td>1207</td>\n",
       "      <td>... &lt; 100 DM</td>\n",
       "      <td>... &lt; 1 year</td>\n",
       "      <td>4</td>\n",
       "      <td>female</td>\n",
       "      <td>single</td>\n",
       "      <td>...</td>\n",
       "      <td>24</td>\n",
       "      <td>none</td>\n",
       "      <td>rent</td>\n",
       "      <td>1</td>\n",
       "      <td>skilled employee / official</td>\n",
       "      <td>1</td>\n",
       "      <td>none</td>\n",
       "      <td>yes</td>\n",
       "      <td>0.387855</td>\n",
       "      <td>2</td>\n",
       "    </tr>\n",
       "    <tr>\n",
       "      <th>14</th>\n",
       "      <td>&lt; 0 DM</td>\n",
       "      <td>24</td>\n",
       "      <td>existing credits paid back duly till now</td>\n",
       "      <td>car (used)</td>\n",
       "      <td>1207</td>\n",
       "      <td>... &lt; 100 DM</td>\n",
       "      <td>... &lt; 1 year</td>\n",
       "      <td>4</td>\n",
       "      <td>female</td>\n",
       "      <td>married</td>\n",
       "      <td>...</td>\n",
       "      <td>24</td>\n",
       "      <td>none</td>\n",
       "      <td>rent</td>\n",
       "      <td>1</td>\n",
       "      <td>skilled employee / official</td>\n",
       "      <td>1</td>\n",
       "      <td>none</td>\n",
       "      <td>yes</td>\n",
       "      <td>0.471957</td>\n",
       "      <td>2</td>\n",
       "    </tr>\n",
       "  </tbody>\n",
       "</table>\n",
       "<p>2 rows × 23 columns</p>\n",
       "</div>"
      ],
      "text/plain": [
       "   account_check_status  duration_in_month  \\\n",
       "12               < 0 DM                 24   \n",
       "14               < 0 DM                 24   \n",
       "\n",
       "                              credit_history     purpose  credit_amount  \\\n",
       "12  existing credits paid back duly till now  car (used)           1207   \n",
       "14  existing credits paid back duly till now  car (used)           1207   \n",
       "\n",
       "         savings present_emp_since  installment_as_income_perc     sex  \\\n",
       "12  ... < 100 DM      ... < 1 year                           4  female   \n",
       "14  ... < 100 DM      ... < 1 year                           4  female   \n",
       "\n",
       "   personal_status  ... age  other_installment_plans housing  \\\n",
       "12          single  ...  24                     none    rent   \n",
       "14         married  ...  24                     none    rent   \n",
       "\n",
       "    credits_this_bank                          job people_under_maintenance  \\\n",
       "12                  1  skilled employee / official                        1   \n",
       "14                  1  skilled employee / official                        1   \n",
       "\n",
       "    telephone foreign_worker     proba diff  \n",
       "12       none            yes  0.387855    2  \n",
       "14       none            yes  0.471957    2  \n",
       "\n",
       "[2 rows x 23 columns]"
      ]
     },
     "execution_count": 6,
     "metadata": {},
     "output_type": "execute_result"
    }
   ],
   "source": [
    "# take only the entries that gets a 0\n",
    "valid_adv_ind = all_adv_ind[all_adv_ind.proba < 0.5]\n",
    "\n",
    "# calculate the number of variables that were changed\n",
    "nb_diff = []\n",
    "for i in range(len(valid_adv_ind)):\n",
    "    val_diff = (valid_adv_ind.iloc[i][var_columns] == adv_ind[var_columns])\n",
    "    nb_diff += [val_diff.value_counts()[False]]\n",
    "    \n",
    "valid_adv_ind = valid_adv_ind.assign(diff = nb_diff)\n",
    "\n",
    "# take the least change entrie that have the biggest impact\n",
    "valid_adv_ind.sort_values(by=['diff', 'proba'], inplace=True)\n",
    "valid_adv_ind.head(3)"
   ]
  },
  {
   "cell_type": "markdown",
   "id": "65be0814-61a1-4451-b6d5-bd15398860d3",
   "metadata": {},
   "source": [
    "On voit ainsi que modifier les variables `purpose` et `personal_status` suffit pour passer en dessous d'un score de 0.5 faisant ainsi changer la classe de notre individu de 1 à 0 (le prêt est maintenant accepté). Voyons la combinaison de ces variables ayant permis ce changement de classe."
   ]
  },
  {
   "cell_type": "code",
   "execution_count": 7,
   "id": "incident-hamilton",
   "metadata": {},
   "outputs": [],
   "source": [
    "def print_diff(old_comb, new_comb):\n",
    "    '''Print the difference between two entries'''\n",
    "    diff_comb = (new_comb != old_comb)\n",
    "    diff_pd = pd.DataFrame([old_comb[diff_comb], \n",
    "                            new_comb[diff_comb]], index=['old', 'new']).transpose()\n",
    "    \n",
    "    if diff_pd.empty: raise ValueError\n",
    "        \n",
    "    # juste for styling\n",
    "    max_ind = max([len(x) for x in diff_pd.index])\n",
    "    max_old = max([len(x) for x in diff_pd.old])\n",
    "    max_new = max([len(x) for x in diff_pd.new])\n",
    "\n",
    "    for i in new_comb[diff_comb].index :\n",
    "        print('{:<{}} : {:<{}} --> {:<{}}'.format(i, max_ind,\n",
    "                                                  diff_pd.old[i], max_old,\n",
    "                                                  diff_pd.new[i], max_new))"
   ]
  },
  {
   "cell_type": "code",
   "execution_count": 8,
   "id": "alpine-wrapping",
   "metadata": {},
   "outputs": [
    {
     "name": "stdout",
     "output_type": "stream",
     "text": [
      "purpose         : car (new) --> car (used)\n",
      "personal_status : divorced  --> single    \n"
     ]
    }
   ],
   "source": [
    "try:\n",
    "    print_diff(adv_ind[var_columns], valid_adv_ind.iloc[0][var_columns])\n",
    "except ValueError:\n",
    "    print(\"Aucun changement\")"
   ]
  },
  {
   "cell_type": "markdown",
   "id": "904b262e-4095-4407-a694-0d7c03e2c63d",
   "metadata": {},
   "source": [
    "Pour passer à un score de moins de 0.5, il suffit à notre individu de falsifier la raison de son prêt en disant que c'est pour une voiture d'occasion et de dire qu'elle n'a jamais été mariée.\n",
    "\n",
    "Maintenant que nous avons fait l'étude de cas sur un individu en particulier, nous allons voir comment ce raisonnement se généralise à notre population de test.\n",
    "On applique la même méthode pour chaque individu qui se voit refuser son crédit et on calcule la probabilité minimale atteignable pour chacun d’entre eux."
   ]
  },
  {
   "cell_type": "code",
   "execution_count": 9,
   "id": "f7b1a15e-17f9-4115-b1cf-2c4b9f9e2d4b",
   "metadata": {},
   "outputs": [],
   "source": [
    "def gen_all_ind(df, var_columns):\n",
    "    # variables that do not change\n",
    "    fix_columns = [x for x in df.columns if x not in var_columns]\n",
    "\n",
    "    # catesian product of all possibilities from variables that can change\n",
    "    all_values = [X[col].unique() for col in var_columns]\n",
    "    prod = list(product(*all_values))  \n",
    "\n",
    "    all_inds = []\n",
    "    for idx, ind in tqdm(df.iterrows()):\n",
    "        for p in prod:\n",
    "            all_inds += [list(ind[fix_columns]) \n",
    "                         + list(p) \n",
    "                         + [idx]]\n",
    "\n",
    "    column_names = fix_columns + var_columns + ['index_old']\n",
    "    return pd.DataFrame(all_inds, columns=column_names)"
   ]
  },
  {
   "cell_type": "code",
   "execution_count": 10,
   "id": "suffering-europe",
   "metadata": {},
   "outputs": [
    {
     "name": "stdout",
     "output_type": "stream",
     "text": [
      "Default label : 49\n",
      "Change to no-default : 46\n"
     ]
    }
   ],
   "source": [
    "X_default = X_test.iloc[idx_default]\n",
    "X_default = X_default.assign(old_proba = logreg.predict_proba(X_default)[:, 1])\n",
    "\n",
    "if NEW:\n",
    "    old_var = [X_default[name].rename('old_'+name) for name in var_columns]\n",
    "    X_default = pd.concat([X_default, pd.DataFrame(old_var).transpose()], axis=1)\n",
    "\n",
    "    all_adv_inds = gen_all_ind(X_default, var_columns)\n",
    "    \n",
    "    all_adv_inds['proba'] = logreg.predict_proba(all_adv_inds[X.columns])[:, 1]\n",
    "    \n",
    "    np.savez_compressed('data/privacy/all_adv_inds.npz', \n",
    "                        data=np.array(all_adv_inds),\n",
    "                       columns=all_adv_inds.columns)\n",
    "else:\n",
    "    file = np.load('data/privacy/all_adv_inds.npz', allow_pickle=True)\n",
    "    all_adv_inds = pd.DataFrame(file['data'], columns=file['columns'])\n",
    "\n",
    "\n",
    "# fonction that takes the minimum proba of a group of entries \n",
    "def min_proba(df):\n",
    "    return df.sort_values('proba').head(1).proba\n",
    "\n",
    "proba_min = all_adv_inds.groupby('index_old').apply(lambda df: min_proba(df))\n",
    "X_default = X_default.assign(proba_min = proba_min.droplevel(1))\n",
    "\n",
    "print('Default label : {}'.format(len(X_default)))\n",
    "print('Change to no-default : {}'.format(len(X_default[X_default.proba_min < 0.5])))"
   ]
  },
  {
   "cell_type": "markdown",
   "id": "a86cb60a-d57b-4227-8e9a-4e332748b3bb",
   "metadata": {},
   "source": [
    "Sur les 49 personnes labellisées comme incapable de rembourser dans la base de données de test, l'évasion à permis de changer la labellisation pour 46 d'entre eux. Autrement dit, 94% des personnes dans la base de test dont le prêt s’est vu refusé peuvent se faire accepter en changeant seulement la raison du prêt et/ou leur statut de relation. Ceci est très problématique du point de vue de la banque. Voyons maintenant la distribution du gain de score obtenu par l'évasion."
   ]
  },
  {
   "cell_type": "code",
   "execution_count": 11,
   "id": "printable-midnight",
   "metadata": {},
   "outputs": [
    {
     "data": {
      "image/png": "[encoded data removed]",
      "text/plain": [
       "<Figure size 432x288 with 1 Axes>"
      ]
     },
     "metadata": {},
     "output_type": "display_data"
    }
   ],
   "source": [
    "(X_default.old_proba - X_default.proba_min).plot.hist()\n",
    "plt.ylabel('Frequency')\n",
    "plt.xlabel('score gain')\n",
    "plt.show()"
   ]
  },
  {
   "cell_type": "markdown",
   "id": "8df566d2-0f59-4bc3-87ec-4c41878ea63f",
   "metadata": {},
   "source": [
    "On voit sur ce graphique qu’une majorité d'individus voient leur score diminuer d'au moins 0.35 lorsqu'ils changent les deux paramètres falsifiables. Notre modèle n'est ainsi pas robuste car il ne prend pas en compte que l'agent peut être malveillant.\n",
    "\n",
    "On remarque tout de même qu'une trentaine de personnes ne sont pas capables de modifier le label attribué (1 : le prêt est refusé) en falsifiant ces deux variables. La partie suivante va démontrer que si l'agent est capable de rajouter des éléments dans la base d'entraînement (*data augmentation*) alors tous ces individus peuvent voir leur prêt se faire accepter."
   ]
  },
  {
   "cell_type": "markdown",
   "id": "45201b63-2524-422e-980a-94ab750efaef",
   "metadata": {},
   "source": [
    "---\n",
    "[RAPPORT]\n",
    "\n",
    "#### Généralisation de l'attaque\n",
    "\n",
    "Pour résumé le principe de cette attaque est le suivant :\n",
    "\n",
    "Sous l'hypothèse que l'on ai accès à la sortie du modèle on génère toutes les combinaisons de variables falsifiables et on retient celles qui permettent un changement de classification.\n",
    "\n",
    "Bien que cette exemple soit trivial il contient les principes généraux. Malheureusement notre méthode ne peut pas s'étendre à des modèles qui ont par exemple des variables continues comme variables falsifiables ou bien un très grand nombre de variables falsifiables.\n",
    "\n",
    "C'est le cas des modèles de visions qui traitent des images. Les images sont des objets à très grandes dimension et facilement modifiables.\n",
    "\n",
    "**Exemple de deux images semblables mais différentes**\n",
    "\n",
    "Pour comprendre comment généraliser cette attaque à des modèles plus complexes nous définir une attaque d'évasion mathématiquement. Il est tout à fait possible de sauter cette partie.\n",
    "\n",
    "([source](https://adversarial-ml-tutorial.org/introduction/))\n",
    "\n",
    "Comme la méthode s'inspire de la manière dont sont entraînés les modèles il est judicieux de reprendre les définition classique de l'apprentissage statistique.\n",
    "\n",
    "On note notre modèle $h_{\\theta} : \\mathcal{X} \\rightarrow \\mathbb{R}^k$, c'est un mapping de l'espace de départ, ici les variables de l'individu, à un vecteur réel de $k$ dimensions, ici un vecteur de taille 2 pour la classe 0 et la classe 1. Le $\\theta$ représente les différents paramètres de notre modèle, ici les coefficients de la régression. C'est ce qui va être optimisé lorsque l'on va entraîner notre modèle.\n",
    "\n",
    "La fonction de perte $l : \\mathbb{R}^k \\times \\mathbb{Z} \\rightarrow \\mathbb{R}_+$ est définie comme le mapping du couple de la prédiction et de la vrai valeur de label vers un réel positif. La notation\n",
    "$$\n",
    "\\ell(h_{\\theta}(x)),y)\n",
    "$$\n",
    "avec $x \\in \\mathcal{X}$ l'entrée et $y \\in \\mathcal{Z}$ la vrai classe exprime la perte du modèle pour sa prédiction à partir de $x$ sachant que la vrai classe est $y$. \n",
    "\n",
    "Le principe fondamentale de l'apprentissage statistique est la minimisation de la fonction perte. Le problème est alors un problème d'optimisation et s'écrit :\n",
    "$$\n",
    "\\min_{\\theta} \\frac{1}{m} \\sum^m_{i=1} \\ell(h_{\\theta}(x_i)),y_i)\n",
    "$$\n",
    "Il est typiquement résolut par une descente de gradient, pour chaque minibatch $\\mathcal{B} \\subseteq \\{1, ..., m\\}$ on calcule le gradient de notre fonction perte par rapport à nos paramètres $\\theta$ et on le modifie légèrement en la direction opposé du gradient \n",
    "$$\n",
    "\\theta:=\\theta-\\frac{\\alpha}{|\\mathcal{B}|} \\sum_{i \\in \\mathcal{B}} \\nabla_{\\theta} \\ell\\left(h_{\\theta}\\left(x_{i}\\right), y_{i}\\right)\n",
    "$$\n",
    "\n",
    "avec $\\alpha$ le pas, et on recommence sur différente minibatch jusqu'à la convergence de nos paramètres. Le terme central est le gradient $\\nabla_{\\theta} \\ell\\left(h_{\\theta}\\left(x_{i}\\right), y_{i}\\right)$. Pour les modèle complexe celui-ci se calcul par *backprobagation* **ref** en appliquant la méthode de différentiation automatique. La beauté de cette méthode est qu'elle ne limite pas la différentiation de la fonction perte par rapport à $\\theta$ et on peut très bien la calculer par rapport à une entrée $x_i$. \n",
    "La quantité calculée sera alors l'impacte d'un changement de l'entrée sur la fonction perte.\n",
    "\n",
    "On va donc utiliser cette information pour créer une entrée qui modifie la perte, on veut résoudre\n",
    "$$\n",
    "\\max_{\\hat{x}} \\ell(h_{\\theta}(\\hat{x}), y)\n",
    "$$\n",
    "où $\\hat{x}$ correspond à notre entrée falsifiée. On ne peut pas prendre comme espace d'optimisation l'ensemble de départ $\\mathcal{X}$ car il y a des entrées qui n'ont évidemment pas la même labellisation que $x$. On va donc contraindre $\\hat{x}$ pour qu'il soit le plus proche possible de $x$. On formalise généralement cette notion par une perturbation $\\delta$ et on optimise par rapport à cette perturbation\n",
    "$$\n",
    "\\max_{\\delta \\in \\Delta} \\ell(h_\\theta(x+\\delta), y)\n",
    "$$\n",
    "avec $\\Delta$ qui représente un ensemble de perturbation permises. Dans notre exemple on défini $\\Delta$ comme l'ensemble des combinaisons des variables que l'on considère comme falsifiable mais dans un modèle de vision cet ensemble est plus difficile à définir car on aimerait que toutes perturbations qui ne 'modifirait' pas l'image pour un individu (ex: rotation, modification de quelques pixels, ajout de grain, ...) soit permises.\n",
    "\n",
    "Dans notre exemple nous n'avons pas eu besoin de calculer le gradient car comme l'espace $\\Delta$ est discret et n'est pas très grands on peut se permettre de tester toutes les possibilités. De plus nous avons ici que qu'une attaque de *missclassification* notre but étant juste d'avoir une entrée qui donne une sortie différente de l'entrée non perturbée. Pour notre exemple cela est suffisant car il n'y a que deux classes : 0 ou 1. Donc trouver cette entrée pour un individu à qui on a refusé son prêt c'est également trouver l'entrée qui donne spécifiquement le 1 pour cette individu. Mais généralement on ne se trouve pas dans ce cas de figure et une attaque de *missclassification* n'est pas suffisant pour choisir la sortie de l'entrée perturbée. Pour cela on une simple variante : *targeted attacks*\n",
    "\n",
    "Au lieu de maximiser la perte de la classe de départ on va également minimiser la perte de la classe cible. Cela revient à résoudre le programme d'optimisation \n",
    "$$\n",
    "\\underset{\\delta \\in \\Delta}{\\operatorname{max}}\\left(\\ell\\left(h_{\\theta}(x+\\delta), y\\right)-\\ell(h_{\\theta}(x+\\delta), y_{\\text {target }})\\right)\n",
    "$$\n",
    "\n",
    "---"
   ]
  },
  {
   "cell_type": "markdown",
   "id": "welsh-vietnamese",
   "metadata": {},
   "source": [
    "### Poisoning\n",
    "\n",
    "On se place cette fois dans une situation un peu moins probable où l'adversaire peut ajouter des éléments dans la base de données d'entraînement. On peut néanmoins imaginer un complice dans le département informatique qui aurait accès à la base et qui voudrait assurer un prêt pour l'adversaire. On ne suppose pas ici de modification des éléments existants (ce qui serait une attaque par *data modification*) mais bien juste l'ajout d’éléments à la base de données (*data injection*).\n",
    "\n",
    "Nous allons voir qu'avec un petit nombre d'ajouts on peut faire passer un individu de 1 (défaut) à 0, cette situation étant particulièrement intéressante pour les individus pour qui l'évasion n'a pas été suffisante. Commençons par choisir un individu au hasard parmi les personnes refusées après la tentative d'évasion.\n"
   ]
  },
  {
   "cell_type": "code",
   "execution_count": 12,
   "id": "duplicate-occasion",
   "metadata": {},
   "outputs": [
    {
     "data": {
      "text/plain": [
       "account_check_status                                          0 <= ... < 200 DM\n",
       "duration_in_month                                                            36\n",
       "credit_history                                  delay in paying off in the past\n",
       "purpose                                                               car (new)\n",
       "credit_amount                                                              7432\n",
       "savings                                                            ... < 100 DM\n",
       "present_emp_since                                            1 <= ... < 4 years\n",
       "installment_as_income_perc                                                    2\n",
       "sex                                                                      female\n",
       "personal_status                                                        divorced\n",
       "other_debtors                                                              none\n",
       "present_res_since                                                             2\n",
       "property                      if not A121 : building society savings agreeme...\n",
       "age                                                                          54\n",
       "other_installment_plans                                                    none\n",
       "housing                                                                    rent\n",
       "credits_this_bank                                                             1\n",
       "job                                                 skilled employee / official\n",
       "people_under_maintenance                                                      1\n",
       "telephone                                                                  none\n",
       "foreign_worker                                                              yes\n",
       "Name: 815, dtype: object"
      ]
     },
     "execution_count": 12,
     "metadata": {},
     "output_type": "execute_result"
    }
   ],
   "source": [
    "X_poison = X_default[X_default.proba_min >= 0.5]\n",
    "idx_poison = X_poison.index\n",
    "\n",
    "np.random.seed(seed)\n",
    "adv_ind = X.loc[[np.random.choice(idx_poison)]]\n",
    "adv_ind.iloc[0]"
   ]
  },
  {
   "cell_type": "markdown",
   "id": "3930041e-0afd-430b-81bd-b8aa1b0c752a",
   "metadata": {},
   "source": [
    "Notre individu (815) est cette fois-ci une femme de 54 ans, seul, qui a eu du mal à payer ses crédits passés. C'est une travailleuse étrangère qui demande un peu plus de 7400 DM pour une voiture neuve. Les attaques d'évasion ne sont pas suffisantes pour qu’un prêt soit accordé à cette personne. Dans la suite, nous travaillons avec les données originelles de cet individu (les attaques d’évasions ont été annulées) afin de voir si le *poisoning* seul suffit à renverser la tendance.\n",
    "\n",
    "Pour cette attaque, on ajoute 5 fois la ligne de l'individu 815 avec comme label 0 dans les données d'entraînement du modèle. Cela consiste en réalité à rentrer 5 fois le profil de l’individu en stipulant que le prêt a été accordé toutes ces fois afin de biaiser le modèle. On entraîne alors le modèle sur cette nouvelle base de données et on regarde les changements obtenus concernant la prédiction du nouveau modèle ainsi que l’impact que ce changement a eu sur les différentes métriques. Le but est alors de diminuer le score de l’individu 714 sans pour autant modifier en profondeur le modèle."
   ]
  },
  {
   "cell_type": "code",
   "execution_count": 13,
   "id": "square-celebrity",
   "metadata": {},
   "outputs": [
    {
     "data": {
      "image/png": "[encoded data removed]",
      "text/plain": [
       "<Figure size 432x288 with 2 Axes>"
      ]
     },
     "metadata": {},
     "output_type": "display_data"
    },
    {
     "name": "stdout",
     "output_type": "stream",
     "text": [
      "       Sensitivity  Specificity   Precision     Accuracy  \n",
      "poison     0.87         0.48         0.62         0.76    \n",
      "  base     0.87         0.48         0.62         0.76    \n"
     ]
    }
   ],
   "source": [
    "# Number of time the line will be added to the training set\n",
    "n = 5\n",
    "\n",
    "# Adding the lines to the training set\n",
    "X_train_pois = X_train.append([adv_ind]*n, ignore_index=True)\n",
    "y_train_pois = pd.Series(list(y_train) + [0]*n)\n",
    "\n",
    "# Seeing metrics for the new model train on the poison training set\n",
    "logreg_pois = model.fit(X_train_pois, y_train_pois)\n",
    "uti.mesure_clas_list([logreg_pois, model], X_test, y_test, ['poison', 'base'])"
   ]
  },
  {
   "cell_type": "code",
   "execution_count": 14,
   "id": "b96249bf-ae15-4d92-8515-8c87932bfd9b",
   "metadata": {},
   "outputs": [
    {
     "name": "stdout",
     "output_type": "stream",
     "text": [
      "0.858 --> 0.634\n"
     ]
    }
   ],
   "source": [
    "old_score = logreg.predict_proba(adv_ind)[0,1]\n",
    "new_score = logreg_pois.predict_proba(adv_ind)[0,1]\n",
    "print(f'{old_score:.3f} --> {new_score:.3f}')"
   ]
  },
  {
   "cell_type": "markdown",
   "id": "e8695083-aafb-4f57-9ced-65b10ce85b57",
   "metadata": {},
   "source": [
    "On a une nette amélioration du score de l'individu 815 et comme le montre la matrice de confusion qui compare les labels associés au modèle initial à ceux associés au modèle entraîné sur la base de donnée modifiée, la classification des autres individus a été peu impactée. Malgré nos efforts, l'ajout de 5 entrées n'est pas suffisant pour obtenir le changement de label concernant l’individu 815.\n",
    "Dans ce qui suit, on va chercher le nombre minimum d'ajouts permettant ce changement de classe."
   ]
  },
  {
   "cell_type": "code",
   "execution_count": 15,
   "id": "light-message",
   "metadata": {},
   "outputs": [],
   "source": [
    "def min_pois(ind, echo=False, X_train=X_train, y_train=y_train):\n",
    "    n = 0\n",
    "    X_train_pois = X_train\n",
    "    y_train_pois = y_train\n",
    "    \n",
    "    # if ind is a pd.Series we change it to a pd.Dataframe\n",
    "    if isinstance(ind, pd.Series):\n",
    "        ind = ind.to_frame().transpose()\n",
    "    \n",
    "    logreg_pois = model.fit(X_train_pois, y_train_pois)\n",
    "    \n",
    "    # Adding one by one the same entry until the score is less or equal that 0.5\n",
    "    while logreg_pois.predict_proba(ind)[0,1] > 0.5:\n",
    "        n += 1\n",
    "        X_train_pois = X_train_pois.append([ind], ignore_index=True)\n",
    "        y_train_pois = pd.Series(list(y_train_pois) + [0])\n",
    "    \n",
    "        logreg_pois = model.fit(X_train_pois, y_train_pois)\n",
    "    \n",
    "    if echo:\n",
    "        old_score = logreg.predict_proba(ind)[0,1]\n",
    "        new_score = logreg_pois.predict_proba(ind)[0,1]\n",
    "\n",
    "        print(f'{n:>2} : {old_score:.3f} --> {new_score:.3f}')\n",
    "        uti.mesure_clas_list([logreg_pois, logreg], X_test, y_test, \n",
    "                             ['poison', 'base'])\n",
    "    \n",
    "    return n"
   ]
  },
  {
   "cell_type": "code",
   "execution_count": 16,
   "id": "historic-grenada",
   "metadata": {},
   "outputs": [
    {
     "name": "stdout",
     "output_type": "stream",
     "text": [
      "10 : 0.858 --> 0.479\n"
     ]
    },
    {
     "data": {
      "image/png": "[encoded data removed]",
      "text/plain": [
       "<Figure size 432x288 with 2 Axes>"
      ]
     },
     "metadata": {},
     "output_type": "display_data"
    },
    {
     "name": "stdout",
     "output_type": "stream",
     "text": [
      "       Sensitivity  Specificity   Precision     Accuracy  \n",
      "poison     0.89         0.48         0.66         0.77    \n",
      "  base     0.86         0.50         0.61         0.76    \n"
     ]
    }
   ],
   "source": [
    "_ = min_pois(adv_ind, echo=True)"
   ]
  },
  {
   "cell_type": "markdown",
   "id": "e58e4fd2-7aad-455d-8d67-63b67823b97c",
   "metadata": {},
   "source": [
    "Pour passer de la classe 1 à la classe 0, l'individu 815 a besoin de rajouter 10 fois son entrée associée au label 0. On remarque par ailleurs que faire ces 10 ajouts n’a pas un impact significatif sur les différentes mesures y compris sur les prédictions associées aux autres individus. On peut ainsi considérer que l'attaque est valide.\n",
    "\n",
    "Nous allons maintenant examiner le nombre d’ajouts nécessaires à l’obtention du prêt concernant les autres individus pour qui l'évasion n'est pas suffisante. "
   ]
  },
  {
   "cell_type": "code",
   "execution_count": 17,
   "id": "promotional-eleven",
   "metadata": {},
   "outputs": [
    {
     "data": {
      "image/png": "[encoded data removed]",
      "text/plain": [
       "<Figure size 432x288 with 1 Axes>"
      ]
     },
     "metadata": {},
     "output_type": "display_data"
    }
   ],
   "source": [
    "if NEW:\n",
    "    list_min = X_poison.apply(lambda x: min_pois(x[X.columns]), axis=1)\n",
    "    np.savez_compressed('data/robustness/list_min.npz', data=list_min)\n",
    "else:\n",
    "    list_min = np.load('data/robustness/list_min.npz')['data']\n",
    "    list_min = pd.Series(list_min)\n",
    "    \n",
    "list_min.plot.hist()\n",
    "plt.xlabel('Number of injections')\n",
    "plt.show()"
   ]
  },
  {
   "cell_type": "markdown",
   "id": "ae7cefaa-9409-49bd-b2af-23ec6fa80492",
   "metadata": {},
   "source": [
    "Le graphe ci-dessus montre que l’on a une répartition assez étendue allant de 3 à 19 injections nécessaires pour changer la prédiction. \n",
    "\n",
    "Sur la base d'entraînement qui contient 800 entrées il peut être difficile de faire passer inaperçu une dizaine de copies de la même entrée. Rien n’empêche ce dernier de coupler les attaques, il peut alors dans un premier temps effectuer une attaque d’évasion afin de faire diminuer son score puis dans un second temps produire une attaque de type poisoning afin que son score passe en dessous de 0,5. Cela permettra notamment d’utiliser moins d’injections et ainsi que l’attaque soit moins repérable."
   ]
  },
  {
   "cell_type": "code",
   "execution_count": 18,
   "id": "fossil-aerospace",
   "metadata": {},
   "outputs": [],
   "source": [
    "def min_pois_best_comb(adv_ind, echo=False):\n",
    "    \n",
    "    # if ind is a pd.Series we change it to a pd.Dataframe\n",
    "    if isinstance(adv_ind, pd.Series):\n",
    "        adv_ind = adv_ind.to_frame().transpose()\n",
    "    \n",
    "    adv_ind_all_comb = all_adv_inds[all_adv_inds.index_old == adv_ind.index[0]]\n",
    "    adv_ind_best_comb = adv_ind_all_comb.sort_values('proba').head(1)[X.columns]\n",
    "\n",
    "    n = 0\n",
    "    X_train_pois = X_train\n",
    "    y_train_pois = y_train\n",
    "    \n",
    "    logreg_pois = model.fit(X_train_pois, y_train_pois)\n",
    "    \n",
    "    while logreg_pois.predict_proba(adv_ind_best_comb)[0,1] > 0.5:\n",
    "        n += 1\n",
    "        X_train_pois = X_train_pois.append([adv_ind_best_comb], ignore_index=True)\n",
    "        y_train_pois = pd.Series(list(y_train_pois) + [0])\n",
    "        \n",
    "        logreg_pois = model.fit(X_train_pois, y_train_pois)\n",
    "    \n",
    "    if echo:\n",
    "        try:\n",
    "            print_diff(adv_ind.iloc[0], adv_ind_best_comb.iloc[0])\n",
    "        except ValueError:\n",
    "            print(\"Aucun changement\")\n",
    "        \n",
    "        old_score = logreg.predict_proba(adv_ind_best_comb)[0,1]\n",
    "        new_score = logreg_pois.predict_proba(adv_ind_best_comb)[0,1]\n",
    "\n",
    "        print(f'{n:>2} : {old_score:.3f} --> {new_score:.3f}')        \n",
    "        uti.mesure_clas_list([logreg_pois, logreg], X_test, y_test, \n",
    "                             ['poison', 'base'])\n",
    "    return n"
   ]
  },
  {
   "cell_type": "code",
   "execution_count": 19,
   "id": "vertical-consultation",
   "metadata": {},
   "outputs": [
    {
     "name": "stdout",
     "output_type": "stream",
     "text": [
      "account_check_status : 0 <= ... < 200 DM           --> no checking account                                          \n",
      "job                  : skilled employee / official --> management/ self-employed/ highly qualified employee/ officer\n",
      " 1 : 0.550 --> 0.496\n"
     ]
    },
    {
     "data": {
      "image/png": "[encoded data removed]",
      "text/plain": [
       "<Figure size 432x288 with 2 Axes>"
      ]
     },
     "metadata": {},
     "output_type": "display_data"
    },
    {
     "name": "stdout",
     "output_type": "stream",
     "text": [
      "       Sensitivity  Specificity   Precision     Accuracy  \n",
      "poison     0.86         0.50         0.60         0.75    \n",
      "  base     0.86         0.50         0.61         0.76    \n"
     ]
    }
   ],
   "source": [
    "_ = min_pois_best_comb(adv_ind, True)"
   ]
  },
  {
   "cell_type": "markdown",
   "id": "cf1fc7b4-77d9-436d-a9be-c1a3fd17b72c",
   "metadata": {},
   "source": [
    "Ce couplage d’attaque permet que l’individu 815 soit labellisé 0 avec seulement 1 ajout dans la base de données. Le nombre d’ajouts est ainsi nettement inférieur aux 10 ajouts nécessaires lorsque seule l’attaque *poisoning* est utilisée..\n",
    "On peut maintenant se pencher sur le cas des autres individus nécessitant une attaque de type *poisoning* (l'attaque d'évasion étant insuffisante)."
   ]
  },
  {
   "cell_type": "code",
   "execution_count": 20,
   "id": "e52adae7-20c1-46c8-aeee-e66ff54ee630",
   "metadata": {},
   "outputs": [
    {
     "data": {
      "image/png": "[encoded data removed]",
      "text/plain": [
       "<Figure size 432x288 with 1 Axes>"
      ]
     },
     "metadata": {},
     "output_type": "display_data"
    }
   ],
   "source": [
    "if NEW:\n",
    "    list_min_best_comb = X_poison.apply(lambda x: min_pois_best_comb(x[X.columns]), axis=1)\n",
    "    np.savez_compressed('data/robustness/list_min_best_comb.npz', data=list_min_best_comb)\n",
    "else:\n",
    "    list_min_best_comb = np.load('data/robustness/list_min_best_comb.npz')['data']\n",
    "    list_min_best_comb = pd.Series(list_min_best_comb)\n",
    "    \n",
    "list_min_best_comb.plot.hist()\n",
    "plt.xlabel('Number of injections')\n",
    "plt.show()"
   ]
  },
  {
   "cell_type": "markdown",
   "id": "a163b72a-523f-416a-9a41-eaaa7c45b864",
   "metadata": {},
   "source": [
    "On observe alors que pour l'individu le plus difficile à aider, seulement 7 ajouts à la base d'entraînement sont nécessaires pour changer sa labellisation.\n",
    "\n",
    "Cette étude de cas montre que si l’on ne se préoccupe pas de la *robustness* d’un modèle, les prédictions de celui-ci peuvent être aisément modifiées par un adversaire extérieur.\n",
    "\n",
    "La faiblesse principale du modèle étudié est qu’il ne prend pas en compte la possibilité que l'agent puisse être malveillant et falsifie son entrée. Dans notre cas, la régression logistique pondère trop grandement des variables qui peuvent être facilement modifiées.\n",
    "Une solution possible est de retirer les variables falsifiables. Seulement, cette solution implique que les variables puissent être classées de façon binaire dans les classes falsifiables / non falsifiables ce qui n’est pas souvent le cas. De plus, retirer un trop grand nombre d'informations réduit la capacité de prédiction du modèle.\n",
    "Des solutions plus fines existent et sont présentées dans la partie suivante.\n"
   ]
  },
  {
   "cell_type": "markdown",
   "id": "0cb4a776-cf3e-4847-b60d-2a0463979f0c",
   "metadata": {},
   "source": [
    "# Mitiger les dégâts"
   ]
  },
  {
   "cell_type": "markdown",
   "id": "4cc215b0-5576-4384-9cb4-90dbf5544516",
   "metadata": {},
   "source": [
    "Pour se prémunir des attaques de *robustness* on cherche à rendre notre modèle plus robuste.\n",
    "\n",
    "Il existe trois grandes familles de méthodes de défense :\n",
    " - ***Adverserial training*** : La notion d'adversaire est introduite dans le processus d'entraînement. Il existe plusieurs manières de procéder : la première consiste à ajouter des perturbations plus ou moins importantes aux données selon leur risque d'être falsifiées. Une deuxième idée est de changer l'algorithme d'entraînement en minimisant la fonction perte sur le voisinage des entrées. D’autres techniques comme l'apprentissage par groupe, l'entraînement utilisant un modèle adversaire, ma méthode ME-Net, ou encore l'entraînement conscient des erreurs de classification ont également pour objectif de rendre un modèle robuste. **CITER PAPIER ?**\n",
    " - **Utilisation de régulation** : Cette méthode consiste à limiter l'impact des perturbations des données d'entraînement sur les sorties du modèles. On utilise pour cela des bornes comme contraintes de notre fonction perte. D’autres techniques modifient le gradient lui-même pour améliorer la robustness d’un modèle (ex : Parseval, DeepDefense, TRADES).\n",
    " - **Défense certifié** : Contrairement aux deux autres méthodes de défense, celle-ci propose des garanties statistiques sur la *robustness* du modèle.\n",
    " \n",
    "Il existe très peu de librairies python différentes permettant de mettre en place ces défenses. Les principales sont :\n",
    " - *Adverserial Robustness Toolbox* (ART) : développée par IBM en 2019, elle vise à évaluer et défendre contre l'évasion, l'empoisonnement, l'extraction et l'exploration.\n",
    " - *AugLy* : développer par Baidu en 2020 a les mêmes objectifs.\n",
    " \n",
    "Nous utiliserons par la suite l'ART d'IBM.\n"
   ]
  },
  {
   "cell_type": "markdown",
   "id": "7cb44ed8-60e9-4372-ba38-434621241d38",
   "metadata": {
    "tags": []
   },
   "source": [
    "## Présentation des différentes solutions\n",
    "\n",
    "### Contrer l'évasion\n",
    "\n",
    "On suppose que les hypothèses qui ont permis l'attaque restent inchangées. (Celles-ci seront remises en cause dans la dernière partie.)\n",
    "\n",
    "On cherche à éviter qu'un agent puissent prendre avantage de la falsification de son entrée, pour cela nous allons utiliser une méthode d'*Adverserial training*.\n",
    "\n",
    "Le principe de cet entraînement est de rendre notre modèle robuste à des perturbations exercées sur les entrées. En reprenant les notations de la partie *Généralisation de l'attaque*, l’entraînement du modèle sur un couple $(x,y)$ consiste à minimiser la fonction suivante :\n",
    "$$\n",
    " \\min_{\\theta \\in \\Theta} \\mathbb{E}_{\\delta} \\ell(h_\\theta(x + \\delta), y)\n",
    "$$\n",
    "On rappelle que $\\Delta$ correspond à l'ensemble des perturbations permises, $\\ell$ la fonction de perte, $h$ la fonction de notre modèle, $\\theta$ les paramètres du modèle, $x$ l'entrée et $y$ la classe de l'entrée. On cherche ainsi à minimiser l’espérance de la fonction perte sur l’entrée bruitée $x+ \\delta$.\n",
    "\n",
    "En pratique, on va approximer cette espérance pour entraîner le modèle en modifiant directement notre base de données. Si on avait accès à la méthode d'entraînement, on aurait pu implémenter la méthode de tirage aléatoire au moment où l'entrée est sélectionnée mais comme ce n’est pas le cas, nous implémentons une autre méthode qui consiste à modifier la base de données, méthode qui ne sera pas détaillée dans ce qui suit.\n",
    "\n",
    "---\n",
    "[RAPPORT DE STAGE] \n",
    "\n",
    "Plus précisément, on commence par définir un coefficient $w_{j}$ de bruit à chaque variable en fonction de sa falsifiabilité. Ce coefficient appartient à l’intervalle [0,1] et est d’autant plus grand que la variable est falsifiable. Pour chaque variable $V_{j}$, pour chaque valeur possible de cette variable $v_{j}$, on définit la probabilité $\\mathbb{P}({V_{j} = v_{j}})$ de la façon suivante :\n",
    "$$\n",
    "\\mathbb{P}({V_{j} = v_{j}}) = \\frac{w_{j}}{n_{j}} + \\mathbb{1}_{v_{j} = \\hat{v}_{j}}(1 - w_{j})\n",
    "$$\n",
    "\n",
    "avec $v_{j}$ la valeur de la $j^{eme}$ variable sensible, $w_j$ le poids associé à la variable sensible $j$, $n_{j}$ le nombre de valeurs différentes possibles pour la variable $j$ et $\\hat{v}_{j}$ la valeur véritable de la variable $V_{j}$.\n",
    "\n",
    "On génère alors toutes les combinaisons possibles pour les variables falsifiables et la probabilité d'une combinaison $C(v_1,...,v_n)$ est le produit des probabilités $\\mathbb{P}({V_{j} = v_{j}})$ :\n",
    "$$\\mathbb{P}(C(v_1,...,v_n)) = \\prod_{j=1}^n \\mathbb{P}({V_{j} = v_{j}})$$\n",
    "\n",
    "\n",
    "Notre base de données est maintenant constituée de toutes les combinaisons possibles pour les variables falsifiable, chaque combinaison possible $C(v_1,...,v_n)$ étant associée à la probabilité $\\mathbb{P}(C(v_1,...,v_n))$. Scikit learn dispose alors d'une fonction prenant en argument les entrées et leurs pondérations (ici les probabilités $\\mathbb{P}(C(v_1,...,v_n))$) qui permet d'entraîner notre modèle en tirant les entrées selon la probabilité associée à celles-ci lors de la constitution des batchs.\n",
    "\n",
    "------------"
   ]
  },
  {
   "cell_type": "code",
   "execution_count": 21,
   "id": "b070e2e0-2167-4ba7-9640-645051fecaf1",
   "metadata": {},
   "outputs": [
    {
     "name": "stderr",
     "output_type": "stream",
     "text": [
      "800it [00:03, 222.33it/s]\n"
     ]
    }
   ],
   "source": [
    "var_columns = ['account_check_status', 'job']\n",
    "type_col = {'high': ['purpose', 'personal_status', 'account_check_status', 'job']}\n",
    "\n",
    "alt_inds = gen_all_ind(pd.concat([X_train, y_train], axis=1), var_columns)\n",
    "\n",
    "# Calcul de l'indicatrice\n",
    "same = []\n",
    "for i, group in list(alt_inds.groupby('index_old')):\n",
    "    same.append(pd.concat([group[col] == X_train.loc[i][col] \n",
    "                           for col in var_columns], axis=1))\n",
    "same = pd.concat(same, axis=0)"
   ]
  },
  {
   "cell_type": "code",
   "execution_count": 22,
   "id": "85012b40-925d-41b0-a874-8663a80534da",
   "metadata": {},
   "outputs": [
    {
     "data": {
      "image/png": "[encoded data removed]",
      "text/plain": [
       "<Figure size 432x288 with 2 Axes>"
      ]
     },
     "metadata": {},
     "output_type": "display_data"
    },
    {
     "name": "stdout",
     "output_type": "stream",
     "text": [
      "       Sensitivity  Specificity   Precision     Accuracy  \n",
      "robust     0.91         0.45         0.68         0.77    \n",
      "  base     0.86         0.50         0.61         0.76    \n"
     ]
    }
   ],
   "source": [
    "# Choice the coefficient w_i and give it to each columns\n",
    "coef = {'high': 0.4}\n",
    "col_coef = {col: coef[key] for key in type_col.keys() for col in type_col[key]}\n",
    "\n",
    "# Calculate the weigth for every entries\n",
    "weight_list = ([(col_coef[col]/X[col].unique().size + \n",
    "                 same[col]*(1 - col_coef[col])) for col in var_columns])\n",
    "weight = weight_list[0]\n",
    "for w in weight_list[1:]:\n",
    "    weight *= w\n",
    "\n",
    "logreg_robust = model.fit(alt_inds[X.columns], alt_inds.default, logreg__sample_weight=weight)\n",
    "uti.mesure_clas_list([logreg_robust, logreg], X_test, y_test, ['robust', 'base'])"
   ]
  },
  {
   "cell_type": "markdown",
   "id": "738e6ca3-0d1f-4ad2-af81-3c0a2d7a17f8",
   "metadata": {},
   "source": [
    "La matrice de confusion et les différentes métriques montrent que le nouveau modèle a des caractéristiques très proches du modèle initial. Nous cherchons à voir s'il est plus robuste que le modèle initial. Pour cela, on va calculer le nombre de personnes qui peuvent modifier leur classe (de 1 vers 0) en falsifiant les variables définies comme facilement falsifiables."
   ]
  },
  {
   "cell_type": "code",
   "execution_count": 23,
   "id": "2746ffb4-d80f-4f02-a6b8-494d6b083373",
   "metadata": {},
   "outputs": [
    {
     "name": "stderr",
     "output_type": "stream",
     "text": [
      "40it [00:00, 186.63it/s]"
     ]
    },
    {
     "name": "stdout",
     "output_type": "stream",
     "text": [
      "Default label : 40\n",
      "Change to no-default : 7\n"
     ]
    },
    {
     "name": "stderr",
     "output_type": "stream",
     "text": [
      "\n"
     ]
    }
   ],
   "source": [
    "# Calculate the old probability without falsification and keep those that predict 1\n",
    "old_proba = pd.Series(logreg_robust.predict_proba(X_test)[:, 1],\n",
    "                     name='old_proba',\n",
    "                     index=X_test.index)\n",
    "X_default = pd.concat([X_test, old_proba], axis=1)[old_proba > 0.5]\n",
    "\n",
    "# Generate all possible falsification and calculate probability for each\n",
    "alt_inds_default = gen_all_ind(X_default, var_columns)\n",
    "alt_inds_default['proba'] = logreg_robust.predict_proba(alt_inds_default[X.columns])[:, 1]\n",
    "\n",
    "# For each individual get the minimum probability attainable with falsification\n",
    "proba_min = alt_inds_default.groupby('index_old').apply(lambda df: min_proba(df))\n",
    "X_default = X_default.assign(proba_min = proba_min.droplevel(1))\n",
    "\n",
    "print('Default label : {}'.format(len(X_default)))\n",
    "print('Change to no-default : {}'.format(len(X_default[X_default.proba_min < 0.5])))"
   ]
  },
  {
   "cell_type": "markdown",
   "id": "8ef72859-5971-4a25-83be-196ef8b1ee78",
   "metadata": {},
   "source": [
    "En associant une pondération de 0.4 à nos variables falsifiables et de 0 aux variables non falsifiables, on obtient après entraînement du modèle que seulement 7 individus peuvent changer de classe sur 40. En comparaison, le modèle initial autorisait 44 personnes sur 49 à modifier leur classe. On a donc un modèle bien plus robuste que le modèle initial.\n",
    "\n",
    "Afin de rentrer dans les détails, on peut regarder l'impact d'attaques par évasion sur le score des individus."
   ]
  },
  {
   "cell_type": "code",
   "execution_count": 24,
   "id": "a9312f22-06a8-4306-b90c-ded7695c4dfd",
   "metadata": {},
   "outputs": [
    {
     "data": {
      "image/png": "[encoded data removed]",
      "text/plain": [
       "<Figure size 432x288 with 1 Axes>"
      ]
     },
     "metadata": {},
     "output_type": "display_data"
    }
   ],
   "source": [
    "(X_default.old_proba - X_default.proba_min).plot.hist()\n",
    "plt.ylabel('Frequency')\n",
    "plt.xlabel('score gain')\n",
    "plt.show()"
   ]
  },
  {
   "cell_type": "markdown",
   "id": "0fcea114-647d-45cc-98d4-b9f3ba9e223b",
   "metadata": {},
   "source": [
    "Pour le modèle classique, on avait en moyenne une baisse de 0.4 sur le score d'un individu après une attaque par évasion. Dans le cas du nouveau modèle cette moyenne est divisée par 10 et le score des individus varie très peu lors de ce type d'attaque. Les variables falsifiables ont ainsi beaucoup moins d'impact sur la prédiction du modèle et ce dernier est devenu robuste contre les attaques d'évasion.\n",
    "\n",
    "On peut maintenant étudier l'influence du coefficient de pondération associé (que l'on a précédemment fixé à 0.4) aux variables falsifiables sur la robustness du modèle."
   ]
  },
  {
   "cell_type": "code",
   "execution_count": 25,
   "id": "9a50ec48-916e-4c2c-942b-c0890fe0cec5",
   "metadata": {},
   "outputs": [],
   "source": [
    "def gen_reg_robust(proba=0.4, inds=alt_inds, X=X):\n",
    "    # The coefficient w_i\n",
    "    coef = {'high': proba}\n",
    "    col_coef = {col: coef[key] for key in type_col.keys() for col in type_col[key]}\n",
    "\n",
    "    # Calculate the weigth for every entries\n",
    "    weight_list = ([(col_coef[col]/X[col].unique().size + \n",
    "                     same.loc[sub_alt_inds.index][col]*(1 - col_coef[col])) \n",
    "                                                        for col in var_columns])\n",
    "\n",
    "    weight = weight_list[0]\n",
    "    for w in weight_list[1:]:\n",
    "        weight *= w\n",
    "\n",
    "    logreg_robust = model.fit(inds[X.columns], inds.default, \n",
    "                              logreg__sample_weight=weight)\n",
    "    \n",
    "    # Keeping metrics on the model to see how the coefficient affects the classification\n",
    "    y_pred = logreg_robust.predict(X_test)\n",
    "    metrics = classification_report(y_test, \n",
    "                                    y_pred,\n",
    "                                    output_dict=True)\n",
    "    \n",
    "    # Calculate the old probability without falsification and keep the 1s\n",
    "    old_proba = pd.Series(logreg_robust.predict_proba(X_test)[:, 1],\n",
    "                         name='old_proba',\n",
    "                         index=X_test.index)\n",
    "    X_default = pd.concat([X_test, old_proba], axis=1)[old_proba > 0.5]\n",
    "\n",
    "    # Generate all possible falsification and calculate probability for each\n",
    "    alt_inds_default = gen_all_ind(X_default, var_columns)\n",
    "    alt_inds_default['proba'] = logreg_robust.predict_proba(alt_inds_default[X.columns])[:, 1]\n",
    "\n",
    "    # For each individual get the minimum probability attainable with falsification\n",
    "    proba_min = alt_inds_default.groupby('index_old').apply(lambda df: min_proba(df))\n",
    "    X_default = X_default.assign(proba_min = proba_min.droplevel(1))\n",
    "\n",
    "    return metrics, len(X_default), len(X_default[X_default.proba_min < 0.5])"
   ]
  },
  {
   "cell_type": "code",
   "execution_count": 26,
   "id": "d312b0f6-c8ea-42c8-81d4-6940a8b3b18a",
   "metadata": {
    "tags": []
   },
   "outputs": [],
   "source": [
    "n_same = 100\n",
    "columns=['coef', 'n_ones', 'n_change', \n",
    "         'accuracy', 'sensitivity', \n",
    "         'specificity', 'precision']\n",
    "\n",
    "if NEW:\n",
    "    df_res = pd.DataFrame(columns=columns)\n",
    "\n",
    "    for proba in np.linspace(0, 1, 20):\n",
    "        for _ in range(n_same):\n",
    "            idx_ind = np.random.choice(alt_inds.index_old.unique(), 600, \n",
    "                                       replace=False)\n",
    "            idx = alt_inds.apply(lambda x: x.index_old in idx_ind, axis=1)\n",
    "            sub_alt_inds = alt_inds[idx]\n",
    "            try:\n",
    "                metrics, n_ones, n_change = gen_reg_robust(proba, sub_alt_inds, \n",
    "                                                       X.loc[idx_ind])\n",
    "                res = {'coef': proba,\n",
    "                       'n_ones': n_ones,\n",
    "                       'n_change': n_change,\n",
    "                       'accuracy': metrics['accuracy'],\n",
    "                       'sensitivity': metrics['0']['recall'],\n",
    "                       'specificity': metrics['1']['recall'],\n",
    "                       'precision': metrics['1']['precision']}\n",
    "            \n",
    "                df_res = df_res.append(res, ignore_index=True)\n",
    "            except ValueError:\n",
    "                print('error')\n",
    "                \n",
    "    np.savez_compressed(f'data/robustness/data_res.npz', df_res=df_res)\n",
    "    \n",
    "else:\n",
    "    file = np.load(f'data/robustness/data_res.npz', allow_pickle=True)\n",
    "    df_res = pd.DataFrame(file['df_res'], columns=columns)\n",
    "    "
   ]
  },
  {
   "cell_type": "code",
   "execution_count": 27,
   "id": "119b1e41-d2e0-41ed-bb43-d1b7a14d4eb3",
   "metadata": {},
   "outputs": [
    {
     "data": {
      "image/png": "[encoded data removed]",
      "text/plain": [
       "<Figure size 432x288 with 1 Axes>"
      ]
     },
     "metadata": {},
     "output_type": "display_data"
    }
   ],
   "source": [
    "df_res['frac_change'] = df_res['n_change']/df_res['n_ones']\n",
    "\n",
    "sns.lineplot(x='coef', y='frac_change', data=df_res)\n",
    "plt.show()"
   ]
  },
  {
   "cell_type": "code",
   "execution_count": 28,
   "id": "2d733be3-15ca-4b5f-9568-5d3a724392ac",
   "metadata": {},
   "outputs": [
    {
     "data": {
      "image/png": "[encoded data removed]",
      "text/plain": [
       "<Figure size 432x288 with 1 Axes>"
      ]
     },
     "metadata": {},
     "output_type": "display_data"
    }
   ],
   "source": [
    "sns.lineplot(x='coef', y='specificity', data=df_res)\n",
    "plt.show()"
   ]
  },
  {
   "cell_type": "markdown",
   "id": "787aa77f-6020-4bd2-a1e8-a318b1d777c5",
   "metadata": {},
   "source": [
    "---\n",
    "[MOD]\n",
    "\n",
    "Les graphiques ci-dessus prouve bien l'efficacité de la méthode. On observe une baisse du nombre d'individus en mesure de changer la prédiction en modifiant les variables `purpose` et `personal_status`. Lorsque que le coefficient est à 1 on ne fait plus du tout confiance à ces deux variables donc il est logique de voir que l'évasion est totalement inefficace dans ce cas. \n",
    "\n",
    "En contrepartie de cette stabilité, on voit que la performance du modèle diminue avec l'augmentation du coefficient. On a tracé ici la `specificity` qui correspond à la fraction de labels 0 prédits correctement, ici la fraction de personnes ayant remboursé leur prêt et qui sont prédit comme capable de rembourser, sur la totalité des personnes qui sont prédit comme capables de rembourser.\n",
    "\n",
    "Il est alors question de compromis entre performance et stabilité.\n",
    "\n",
    "---"
   ]
  },
  {
   "cell_type": "markdown",
   "id": "78e06880-9768-4377-92f5-f1d74a09875e",
   "metadata": {},
   "source": [
    "# Partie 3\n",
    "\n",
    "## Les libraires pour la stabilité des modèles statistiques ne sont pas assez matures.\n",
    "\n",
    "Les différentes implémentations des attaques et des méthodes de robustness (cf partie I et II) ont permis de constater certaines lacunes des différentes librairies existantes. Aucune des méthodes mises en œuvre dans la deuxième partie ne proviennent des librairies et ce pour deux raisons. La première est pédagogique, voir le détail de l’implémentation permet de comprendre les idées de celle-ci. La deuxième est le manque de méthodes correspondant à mon problème, un modèle de régression logistique avec des variables catégorielles. Cela peut s’expliquer par la présence de seulement deux librairies sur la stabilité des modèles : *Adverserial Robustness Toolbox* (ART), développé par IBM en 2019 et *AdvBox* développé par Baidu en 2020. Avec une majorité des exemples et de la documentation de *AdvBox* en chinois. Pour ce qui est des exemples de ART ils sont nombreux pour les différentes attaques mais plus rares pour les méthodes de défenses. À cela s’ajoute le manque d’échange sur les sites comme *stack overflow* avec seulement trois questions pour ART et aucune pour *AdvBox*. \n",
    "Pour espérer une adoption des méthodes de stabilité, il faut continuer le développement des librairies existantes. ART, la librairie plus avancée, rassemble dans un seul répertoire tout ce qu’il faut pour attaquer et défendre plusieurs aspects d’un modèle. \n",
    "Un très grand nombre d’outils, sans une méthode pour choisir les plus pertinentes, risque de décourager l’implémentation. Lorsque le besoin est clairement identifié et que l’on sait  quelle méthode on va utiliser et que celle-ci est implémentée, il est plutôt facile de la mettre en œuvre. Pour pallier ces problèmes et continuer de faciliter la tâche des développeurs, il faut continuer à investir du temps et de l’argent dans les outils pour couvrir le plus de cas possible mais en se concentrant sur les méthodes d’explication et de choix des modèles. Pour choisir au mieux les modèles on peut investir dans des méta analyses ou bien des études de cas dans les exemples des librairies qui soulignent les avantages et inconvénients des méthodes.\n",
    "\n",
    "## Les libraires de stabilité sont à jour et bien documentés mais ne sont pas prête pour des cas industrielles. \n",
    "On retrouve les inconvénients des secteurs de recherche naissants qui n’ont pas encore quitté le monde académique. Les documentations sont pensées pour des développeurs ayant déjà une idée précise des enjeux, des méthodes et des solutions de la stabilité. Contrairement à la plupart des libraires utilisées dans ce rapport, l'ART contient des exemples d’implémentation très méthodiques et bien détaillés. Mais ils ne sont qu’une quinzaine (sur plus d'une centaine de méthodes) et ces exemples ne proposent pas d’explication sur les raisons du choix des méthodes présentées. On note tout de même que la stabilité est une problématique qui se visualise aisément dans certains cas comme la vision et il existe des outils comme https://art-demo.mybluemix.net/ qui permettent de comprendre visuellement les enjeux. Mais comme pour la *privacy* ces visualisations et la plupart des méthodes se concentrent sur des modèles avancés et complexes. \n",
    "La majorité des modèles utilisés en entreprise dont les enjeux de la stabilité sont importants, comme les modèles de pré-tris pour embauches, sont soit des modèles simples, soit des modèles plus complexes mais directement implémentés par des outils d’autoML.\n",
    "Pour une adoption des méthodes et les rendre accessibles aux entreprises il faut des implémentations directement dans ces outils et se concentrer sur des solutions pour des modèles simples. L’impact d’une méthode sera d’autant plus importante qu’elle peut être mise en place facilement dans le monde réel. \n",
    "Il serait idéale de voir une appropriation industrielle du sujet avec la mise en place de produits simples, ceci couplé à une législation sur la notion de stabilité lorsque les modèles statistiques sont implémentés dans des domaines sensibles. Comme toujours la production de communication non scientifique pousse également à la discussion et à sensibiliser les industriels et les utilisateurs sur le sujet.\n",
    "\n",
    "## Il existe un arbitrage important entre performance et stabilité\n",
    "On a vu que la stabilité algorithmique requiert l’implémentation de méthodes autour du modèle choisie et qu’un modèle classique n’est pas robuste face à des exemples adverses. L’ajout de ces méthodes est donc nécessaire mais impactent les performances du modèle. Dans notre exemple de régression logistique l’augmentation de la stabilité n’a pas engendré une baisse drastique de l’*accuracy* mais des publications comme (https://arxiv.org/pdf/1805.12152.pdf) montrent qu’il existe une tension entre ces deux variables. De plus, l'ajout de méthodes augmente le temps d'entraînement et d’utilisation d’un modèle. Dans notre exemple, le temps d’entraînement du modèle sans stabilité est de 50ms et 38 des 40 personnes qui ont refusé peuvent modifier la prédiction. Lorsque l’on implémente notre méthode le temps d’entraînement passe à 6s mais cette fois-ci seulement 7 des 40 personnes on pu modifier leur prédiction.\n",
    "L’inconvénient est qu’il n’y a pas de document non scientifique qui explique ces arbitrages et aide à la prise de décision. L'idéal serait des tableaux de comparaison entre les méthodes pour comprendre les différences entre chaque méthode. Cela passe également par la prise en main des outils et une adoption par les développeurs pour avoir un retour sur ce qui est important et ce sur quoi on peut faire des compromis avec la performance. On peut également imaginer que dans les communications scientifiques ces questions de compromis soient abordées plus régulièrement.\n"
   ]
  }
 ],
 "metadata": {
  "kernelspec": {
   "display_name": "Python 3 (ipykernel)",
   "language": "python",
   "name": "python3"
  },
  "language_info": {
   "codemirror_mode": {
    "name": "ipython",
    "version": 3
   },
   "file_extension": ".py",
   "mimetype": "text/x-python",
   "name": "python",
   "nbconvert_exporter": "python",
   "pygments_lexer": "ipython3",
   "version": "3.9.6"
  }
 },
 "nbformat": 4,
 "nbformat_minor": 5
}
