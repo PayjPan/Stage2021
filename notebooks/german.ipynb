{
 "cells": [
  {
   "cell_type": "code",
   "execution_count": 2,
   "metadata": {},
   "outputs": [],
   "source": [
    "import pandas as pd\n",
    "\n",
    "from sklearn import model_selection\n",
    "from sklearn.preprocessing import StandardScaler, OneHotEncoder\n",
    "from sklearn.linear_model import LogisticRegression\n",
    "from sklearn.compose import ColumnTransformer\n",
    "from sklearn.pipeline import Pipeline\n",
    "from copy import deepcopy\n",
    "\n",
    "import utility as uti\n",
    "\n",
    "import seaborn as sns\n",
    "sns.set_theme(style='darkgrid')"
   ]
  },
  {
   "cell_type": "code",
   "execution_count": 3,
   "metadata": {},
   "outputs": [],
   "source": [
    "seed = 2021"
   ]
  },
  {
   "cell_type": "markdown",
   "metadata": {},
   "source": [
    "# Présentation de la base german credit scoring / cas d'usage (prédiction risque de défaut)\n",
    "\n",
    "Pour étudier les différentes catégories d’éthique de l'intelligence artificielle définies plus haut, nous utilisons une version nettoyée de la base de données : [German Credit Risk](https://archive.ics.uci.edu/ml/datasets/statlog+(german+credit+data)).\n",
    "Cette base de données est mise à disposition par le professeur Hofmann et contient 1000 entrées chacune composée de 22 variables. Chaque entrée représente une personne qui a contracté un emprunt à une banque. Chaque personne est alors placée dans la classe “0” si elle a remboursé son crédit ou dans la classe “1” si elle n’a pas réussi à le rembourser. Cette classification correspond à la variable \"default\"."
   ]
  },
  {
   "cell_type": "code",
   "execution_count": 4,
   "metadata": {},
   "outputs": [
    {
     "data": {
      "text/plain": [
       "default                                                                       0\n",
       "account_check_status                                                     < 0 DM\n",
       "duration_in_month                                                             6\n",
       "credit_history                critical account/ other credits existing (not ...\n",
       "purpose                                                     domestic appliances\n",
       "credit_amount                                                              1169\n",
       "savings                                             unknown/ no savings account\n",
       "present_emp_since                                                 .. >= 7 years\n",
       "installment_as_income_perc                                                    4\n",
       "sex                                                                        male\n",
       "personal_status                                                          single\n",
       "other_debtors                                                              none\n",
       "present_res_since                                                             4\n",
       "property                                                            real estate\n",
       "age                                                                          67\n",
       "other_installment_plans                                                    none\n",
       "housing                                                                     own\n",
       "credits_this_bank                                                             2\n",
       "job                                                 skilled employee / official\n",
       "people_under_maintenance                                                      1\n",
       "telephone                              yes, registered under the customers name\n",
       "foreign_worker                                                              yes\n",
       "Name: 0, dtype: object"
      ]
     },
     "execution_count": 4,
     "metadata": {},
     "output_type": "execute_result"
    }
   ],
   "source": [
    "credit = pd.read_csv(\"data/german_credit_prepared.csv\", \n",
    "                     sep=\",\", \n",
    "                     engine=\"python\")\n",
    "credit.iloc[0]"
   ]
  },
  {
   "cell_type": "markdown",
   "metadata": {},
   "source": [
    "# Création du modèle"
   ]
  },
  {
   "cell_type": "markdown",
   "metadata": {},
   "source": [
    "On va créer un modèle qui décidera s'il faut accorder un prêt à un nouvel individu, le modèle prédisant si ce dernier arrivera à rembourser ce prêt ou non. On cherche ainsi à créer un classifieur qui étant donné les caractéristiques d'une personne la place dans la classe 0 s'il faut lui accorder un prêt (car il y a de grandes chances qu'elle rembourse ce prêt) et dans la classe 1 sinon. L'idée est par la suite d'appliquer les différentes méthodes d'éthique au modèle ainsi créé. On choisit ici une régression logistique car c’est un modèle très utilisé dans les banques à la fois pour sa simplicité et son efficacité. De plus, utiliser une régression logistique illustre la pertinence des problématiques éthiques pour les modèles les plus simples tels que la régression logistique. "
   ]
  },
  {
   "cell_type": "code",
   "execution_count": 5,
   "metadata": {},
   "outputs": [],
   "source": [
    "y = credit.default \n",
    "X = credit.drop(columns=[\"default\"])\n",
    "\n",
    "# class the variable between categorical and ordinal \n",
    "cat_variables = [col for col in X.columns if credit[col].dtype==object]\n",
    "ord_variables = [col for col in X.columns if credit[col].dtype==int]\n",
    "\n",
    "preprocess = ColumnTransformer(\n",
    "    transformers=[\n",
    "        ('cat', OneHotEncoder(drop='first'), cat_variables),\n",
    "        ('ord', StandardScaler(), ord_variables)\n",
    "    ])\n",
    "\n",
    "model = Pipeline(\n",
    "        [\n",
    "            ('prepro', preprocess),\n",
    "            ('logreg', LogisticRegression())\n",
    "        ]\n",
    ")"
   ]
  },
  {
   "cell_type": "code",
   "execution_count": 6,
   "metadata": {},
   "outputs": [],
   "source": [
    "split = model_selection.train_test_split(X, y, \n",
    "                                         test_size=0.20,\n",
    "                                         random_state=seed)\n",
    "X_train, X_test, y_train, y_test = split\n",
    "\n",
    "logreg = deepcopy(model.fit(X_train, y_train))"
   ]
  },
  {
   "cell_type": "markdown",
   "metadata": {},
   "source": [
    "# Présentation de la performance du modèle"
   ]
  },
  {
   "cell_type": "markdown",
   "metadata": {},
   "source": [
    "Les performances du modèles sont mesurées par les quatre notions suivantes :\n",
    " - *Sensitivity* : la fraction de labels 1 prédits correctement, ici la fraction de personnes ayant fait défaut qui sont prédit comme incapable de rembourser sur la totalité des personnes prédites comme incapables de rembourser. \n",
    " - *Specificity* : la fraction de labels 0 prédits correctement, ici la fraction de personnes ayant remboursé leur prêt et qui sont prédit comme capable de rembourser, sur la totalité des personnes qui sont prédit comme capables de rembourser.\n",
    " - *Precision* : la fraction de label prédit comme 1 correct, ici la fraction de personnes prédites comme incapable de rembourser et qui ont fait défaut sur la totalité des personnes ayant fait défaut.\n",
    " - *Accuracy* : la fraction de label correct sur la totalité des personnes, ici la fraction de personnes donc le label est correct sur la totalité des personnes."
   ]
  },
  {
   "cell_type": "code",
   "execution_count": 7,
   "metadata": {},
   "outputs": [
    {
     "data": {
      "image/png": "[encoded data removed]",
      "text/plain": [
       "<Figure size 432x288 with 2 Axes>"
      ]
     },
     "metadata": {},
     "output_type": "display_data"
    },
    {
     "name": "stdout",
     "output_type": "stream",
     "text": [
      "Sensitivity  Specificity   Precision     Accuracy  \n",
      "    0.86         0.50         0.61         0.76    \n"
     ]
    }
   ],
   "source": [
    "uti.mesure_clas(logreg, X_test, y_test)"
   ]
  },
  {
   "cell_type": "markdown",
   "metadata": {},
   "source": [
    "Les valeurs obtenues pour chacune des mesures nous permettent de dire que le modèle entraîné fait de bonnes prédictions. On va utiliser ce modèle pour les trois notebooks illustrant respectivement les notions de robustness, fairness et de privacy."
   ]
  }
 ],
 "metadata": {
  "kernelspec": {
   "display_name": "Python 3 (ipykernel)",
   "language": "python",
   "name": "python3"
  },
  "language_info": {
   "codemirror_mode": {
    "name": "ipython",
    "version": 3
   },
   "file_extension": ".py",
   "mimetype": "text/x-python",
   "name": "python",
   "nbconvert_exporter": "python",
   "pygments_lexer": "ipython3",
   "version": "3.9.6"
  }
 },
 "nbformat": 4,
 "nbformat_minor": 4
}
