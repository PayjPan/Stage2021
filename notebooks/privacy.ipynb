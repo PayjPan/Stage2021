{
 "cells": [
  {
   "cell_type": "markdown",
   "metadata": {},
   "source": [
    "# Privacy"
   ]
  },
  {
   "cell_type": "code",
   "execution_count": 2,
   "metadata": {},
   "outputs": [],
   "source": [
    "import numpy as np\n",
    "import matplotlib.pyplot as plt\n",
    "import diffprivlib.models as diff\n",
    "\n",
    "from tqdm import tqdm\n",
    "\n",
    "from copy import deepcopy\n",
    "from itertools import combinations, product\n",
    "from sklearn.metrics import accuracy_score, confusion_matrix\n",
    "from sklearn.preprocessing import FunctionTransformer\n",
    "from sklearn.linear_model import LinearRegression\n",
    "from sklearn.metrics import confusion_matrix, classification_report\n",
    "\n",
    "import utility as uti\n",
    "\n",
    "import seaborn as sns\n",
    "sns.set_theme(style='darkgrid')"
   ]
  },
  {
   "cell_type": "code",
   "execution_count": 3,
   "metadata": {},
   "outputs": [],
   "source": [
    "%%capture\n",
    "%run ./german.ipynb"
   ]
  },
  {
   "cell_type": "code",
   "execution_count": 4,
   "metadata": {},
   "outputs": [],
   "source": [
    "seed = 1234\n",
    "NEW = False"
   ]
  },
  {
   "cell_type": "markdown",
   "metadata": {
    "toc-hr-collapsed": true
   },
   "source": [
    "# Présentation des enjeux de la protection des données personnelles\n",
    "\n",
    "---\n",
    "[MOD]\n",
    "\n",
    "Avec la part grandissante de service dépendant de méthodes d'apprentissage statistique il devient indispensable de se poser la question de la protection des données utilisé celles-ci. La protection des données dans la sphère de l'apprentissage statistique correspond à des méthodes pour se prémunir contre une utilisation adverse des outils d'apprentissage dans le but de soutirer des informations soit personnels soit confidentiels. Le but est de s'assurer qu'un modèle ne divulgue pas plus d'information que celles pour lesquelles il a été conçu.\n",
    "\n",
    "Il y a deux raisons pour lesquelles un modèle statistique est considérée comme un actif. Premièrement, il est coûteux d'en concevoir un. Le simple fait d'entraîner un modèle peut être très coûteux, par exemple lorsque Google entraîne un modèle avec 340 millions de paramètres cela lui a coûter plus de soixante mille dollars par entraînement. Il faut également prendre en compte le temps de trouver la bonne architecture, les bonnes méthodes et paramètre du modèles. De plus, l'efficacité d'un modèle statistique repose grandement sur la qualité des données qu'il reçoit en entrée. Trouver, nettoyer et annoté une base de données et encore une autre des tâches coûteuse liée à un modèle. \n",
    "Deuxièmement, il y a des enjeux de sécurité et de confidentialité liée au modèle lui même. La base de données peut contenir des informations sensibles ou encore l'utilisateur du modèle peut vouloir s'assurer de l'utilisation des informations qu'il les fournis.\n",
    "\n",
    "Les différentes attaques de protection des données sont les suivantes :\n",
    " - Inférence d'appartenance : cette attaque cherche à déterminer si une entrée particulière à fait partie de la base d'entraînement du modèle cible. \n",
    " - Inférence de propriété : cette attaque cherche à inférer des propriétés de la base de données d'entraînement du modèle cible. \n",
    " - Copie de modèle : cette attaque cherche à récupérer des informations plus ou moins précise sur un modèle dit boite noire, cela signifie que les éléments constituant le modèle ne sont pas accessible à l'utilisateur. \n",
    "\n",
    "Et les deux méthodes principales de défense sont : \n",
    " - Cryptologie : cette défense est plus tourné vers la confidentialité dans le sens où un des parties veut pas échanger d'information avec les autres. Par exemple, il existe des méthodes permettant de s'assurer que les information que donnent et revoient l'utilisateur ne peuvent pas être lu par la personne en charge du modèle. \n",
    " - Confidentialité Différentiable : cette méthode est plus un critère qui englobe différents outils permettant d'obtenir des garanties mathématique sur la protection des données contres différentes attaques.\n",
    "\n",
    "Les différents types d'attaques peuvent avoir un impact important sur les entreprises proposant des modèles d'apprentissage statistiques. L'inférence d'appartenance et de propriétés sont des des attaques sur les bases de données impliquant soit des fuites d'information importantes soit un non respect du traitement des données personnelles. La copie de modèle, elle, peut permettre à des concurrents de réduire leur écart technologique sans avoir à supporter les coûts associés. Il est donc important de comprendre ces attaques et leurs limites mais également de connaître les différentes méthodes pour se prémunir contre celles-ci.\n",
    "\n",
    "Dans l'étude de cas nous implémentons deux attaques et une défense. La première attaque est une copie de modèle et la deuxième est un inférence de propriété, retrouver la proportion de femme dans la base d'entraînement d'un modèle. Pour se prémunir de la copie de modèle il faut mettre en place des mesures non technique qui ne sont pas présenté ici, pour l'inférence on implémente une méthode de confidentialité différentiable.\n",
    "\n",
    "---"
   ]
  },
  {
   "cell_type": "markdown",
   "metadata": {
    "toc-hr-collapsed": true
   },
   "source": [
    "# Étude de cas et implémentation"
   ]
  },
  {
   "cell_type": "markdown",
   "metadata": {},
   "source": [
    "## Model extraction\n",
    "\n",
    "Prenons le cas de figure suivant: un nouvel acteur bancaire veut se lancer dans les prêts mais plutôt que de payer une équipe pour labelliser les demandes il souhaite utiliser un modèle de la banque allemande.\n",
    "\n",
    "Le but de cette attaque est de récupérer les paramètres du modèle afin d’en avoir une copie.\n",
    "On suppose les deux choses suivantes pour que l'attaque soit possible:\n",
    " - on connaît l'architecture du modèle : régression logistique.\n",
    " - on peut utiliser le modèle cible sans contraintes (mais comme une boîte noire)\n",
    "\n",
    "Afin de récupérer les paramètres du modèle cible, on commence par créer un modèle ayant la même architecture que le modèle cible. On va ensuite constituer une base de données à l’aide du modèle cible. Pour cela, on génère aléatoirement des entrées selon deux méthodes que l'on comparera ensuite et on labellise ces données en utilisant les sorties retournées par le modèle cible sur ces entrées.\n",
    "\n",
    "Le nouveau modèle est ensuite entraîné avec la nouvelle base de données ainsi constituée.\n",
    "Dans ce qui suit, le modèle `logreg` correspond au modèle secret qui a été entraîné sur la base de données de départ. C'est ce modèle que nous tentons de copier."
   ]
  },
  {
   "cell_type": "code",
   "execution_count": 5,
   "metadata": {},
   "outputs": [],
   "source": [
    "model_pirate = deepcopy(model)\n",
    "model_secret = deepcopy(logreg)"
   ]
  },
  {
   "cell_type": "markdown",
   "metadata": {},
   "source": [
    "Pour commencer, supposons que l'attaquant ait accès à une base de données d’entrées tirées selon la même distribution que les entrées utilisées pour entraîner le modèle secret. Puisque l’on a accès en boîte noire au modèle secret, on peut obtenir les sorties prédites par le modèle secret sur ces entrées et constituer notre propre base de données d’entraînement. On peut alors entraîner notre modèle sur cette base d'entraînement et regarder si notre modèle ressemble au modèle secret."
   ]
  },
  {
   "cell_type": "code",
   "execution_count": 6,
   "metadata": {},
   "outputs": [],
   "source": [
    "def new_entries(n):\n",
    "    '''Retrun n new entries based on possible values and frequency of X dataset'''\n",
    "    list_entries = []\n",
    "    for col in X.columns:\n",
    "        frequence = (X[col].value_counts(normalize=True)).to_numpy()\n",
    "        entries = np.random.choice(X[col].unique(), n, p=frequence)\n",
    "        list_entries.append(entries)\n",
    "        \n",
    "    return pd.DataFrame(np.array(list_entries).transpose(), columns=X.columns)"
   ]
  },
  {
   "cell_type": "code",
   "execution_count": 7,
   "metadata": {},
   "outputs": [
    {
     "data": {
      "image/png": "[encoded data removed]",
      "text/plain": [
       "<Figure size 432x288 with 2 Axes>"
      ]
     },
     "metadata": {},
     "output_type": "display_data"
    },
    {
     "name": "stdout",
     "output_type": "stream",
     "text": [
      "       Sensitivity  Specificity   Precision     Accuracy  \n",
      "pirate     0.88         0.50         0.64         0.77    \n",
      "secret     0.86         0.50         0.61         0.76    \n"
     ]
    }
   ],
   "source": [
    "n = len(X_train)\n",
    "X_train_pirate = new_entries(n)\n",
    "y_train_pirate = model_secret.predict(X_train_pirate)\n",
    "\n",
    "np.random.seed(seed)\n",
    "model_pirate.fit(X_train_pirate, y_train_pirate)\n",
    "uti.mesure_clas_list([model_pirate, model_secret], X_test, y_test, ['pirate', 'secret'])"
   ]
  },
  {
   "cell_type": "markdown",
   "metadata": {},
   "source": [
    "On remarque que le modèle extrait a des performances sur l’ensemble de test qui sont proches des performances du modèle cible. Toutefois, on remarque qu’il a tendance à l'augmenter le nombre de personnes prédites comme capable de rembourser alors qu'elles ne le sont pas.\n",
    "\n",
    "Nous retirons maintenant l'hypothèse d’avoir accès à une base de données similaire à celle utilisée pour l’entraînement du modèle secret. On va créer notre base d’entraînement en tirant aléatoirement les variables des entrées et en utilisant le modèle secret en boîte noire pour prédire la sortie associée à chaque entrée créée.\n"
   ]
  },
  {
   "cell_type": "code",
   "execution_count": 8,
   "metadata": {},
   "outputs": [],
   "source": [
    "def new_entries_unif(n):\n",
    "    '''Retrun n new entries based on possible values uniformaly'''\n",
    "    list_entries = []\n",
    "    for col in X.columns:\n",
    "        entries = np.random.choice(X[col].unique(), n)\n",
    "        list_entries.append(entries)\n",
    "        \n",
    "    return pd.DataFrame(np.array(list_entries).transpose(), columns=X.columns)"
   ]
  },
  {
   "cell_type": "code",
   "execution_count": 9,
   "metadata": {},
   "outputs": [
    {
     "data": {
      "image/png": "[encoded data removed]",
      "text/plain": [
       "<Figure size 432x288 with 2 Axes>"
      ]
     },
     "metadata": {},
     "output_type": "display_data"
    },
    {
     "name": "stdout",
     "output_type": "stream",
     "text": [
      "       Sensitivity  Specificity   Precision     Accuracy  \n",
      "pirate     0.88         0.48         0.63         0.76    \n",
      "secret     0.86         0.50         0.61         0.76    \n"
     ]
    }
   ],
   "source": [
    "n = len(X_train)\n",
    "\n",
    "X_train_pirate_unif = new_entries_unif(n)\n",
    "y_train_pirate_unif = model_secret.predict(X_train_pirate_unif)\n",
    "\n",
    "np.random.seed(seed)\n",
    "model_pirate.fit(X_train_pirate_unif, y_train_pirate_unif)\n",
    "uti.mesure_clas_list([model_pirate, model_secret], X_test, y_test, ['pirate', 'secret'])"
   ]
  },
  {
   "cell_type": "markdown",
   "metadata": {},
   "source": [
    "Le nouveau modèle appris a des performances semblables au modèle secret une fois encore. Jusqu’ici, pour comparer deux modèles nous avons comparé les métriques de performance de ces derniers, c’est la méthode la plus classique. Une deuxième façon de quantifier la distance entre deux modèles et de regarder leurs comportements respectifs sur des entrées identiques afin de voir si les modèles se trompent sur les mêmes entrées. La première métrique (celle que nous avons utilisée) est globale tandis que la deuxième est une métrique locale.\n",
    "On note `precision` la mesure locale décrite ci-dessus et on utilise la métrique de performance “accuracy” pour avoir une mesure globale."
   ]
  },
  {
   "cell_type": "code",
   "execution_count": 10,
   "metadata": {},
   "outputs": [
    {
     "name": "stdout",
     "output_type": "stream",
     "text": [
      "local : 0.945, global : -0.005\n"
     ]
    }
   ],
   "source": [
    "y_pirate = model_pirate.predict(X_test)\n",
    "y_secret = model_secret.predict(X_test)\n",
    "\n",
    "# Pourcentage of same prediction\n",
    "precision = (y_secret == y_pirate).astype(int).sum()/len(y_secret)\n",
    "\n",
    "# Difference of accuracy betwenne secret and pirate prediction\n",
    "accu_diff = accuracy_score(y_test, y_secret) - accuracy_score(y_test, y_pirate)\n",
    "\n",
    "print(f\"local : {precision:.3f}, global : {accu_diff:.3f}\")"
   ]
  },
  {
   "cell_type": "markdown",
   "metadata": {},
   "source": [
    "Les résultats obtenus montrent que l’on a créé un modèle qui est très proche globalement et localement du modèle secret. L'évasion de modèle a ainsi très bien fonctionné."
   ]
  },
  {
   "cell_type": "markdown",
   "metadata": {},
   "source": [
    "## Créer un modèle qui surapprend"
   ]
  },
  {
   "cell_type": "markdown",
   "metadata": {},
   "source": [
    "Afin de réaliser une attaque d'inférence de propriété, il est nécessaire d'attaquer un modèle ayant surappris. L’objectif de l’attaque est de récupérer des informations (des propriétés) de la base de données d'entraînement du modèle cible.\n",
    "Pour cela, on va exploiter le surapprentissage et tenter d’exploiter ce que le modèle a appris sur la base de données d’entraînement.\n",
    "Dans un premier temps, nous créons un modèle ayant surappris sur notre base de données. Il est difficile de faire surapprendre une régression logistique qui est un modèle simple en prolongeant seulement l’entraînement. Une façon de faciliter le surapprentissage de cette dernière est de coupler les variables de la façon suivante.\n",
    "\n",
    "On suppose qu'une entrée dans la base de données d'origine est de la forme :\n",
    "$$\n",
    "x_1, x_2, ..., x_n\n",
    "$$\n",
    "avec $x_i$ la variable de l'individu pour la *i*-ème catégorie. \n",
    "\n",
    "On crée avec cette entrée la nouvelle entrée suivante pour le modèle que l’on souhaite faire surapprendre :\n",
    "$$\n",
    "x_1, x_2, ..., x_n, (x_i x_j)_{i,j \\in C}\n",
    "$$\n",
    "avec $C$ l'ensemble des variables catégorielles. On augmente ainsi grandement la dimension de notre modèle ce qui facilitera le surapprentissage.\n",
    "Nous créons dans un premier temps la base de données augmentée à partir de notre base de donnée initiale."
   ]
  },
  {
   "cell_type": "code",
   "execution_count": 11,
   "metadata": {},
   "outputs": [],
   "source": [
    "# We need to compute evey possibility of variables to normalise coefficient order\n",
    "# in the regression as a lot of possibility will not be present every time \n",
    "all_variables = cat_variables + [f'{i}_{j}' for i, j in \n",
    "                                                 combinations(cat_variables, 2)]\n",
    "all_values = [X[col].unique() for col in cat_variables]\n",
    "all_combinaisons = list(combinations(all_values, 2))\n",
    "\n",
    "categorie_values = [[a + b for a,b in list(product(*x))] for x in all_combinaisons]\n",
    "\n",
    "def add_relations(df_orig):\n",
    "    '''Takes a dataframe and add the relation define above'''\n",
    "    df = df_orig.copy()\n",
    "    for i, j in combinations(cat_variables, 2):\n",
    "        df[f'{i}_{j}'] = df[i] + df[j]\n",
    "    return df"
   ]
  },
  {
   "cell_type": "markdown",
   "metadata": {},
   "source": [
    "On crée ensuite le modèle prenant en entrée les entrées de la base de donnée augmentée et on l'entraîne sur cette dernière. Le modèle est nommé `model_overfit`."
   ]
  },
  {
   "cell_type": "code",
   "execution_count": 12,
   "metadata": {},
   "outputs": [],
   "source": [
    "preprocessor_comb = ColumnTransformer(\n",
    "    transformers=[\n",
    "        ('cat', OneHotEncoder(categories=all_values+categorie_values, \n",
    "                              drop='first', \n",
    "                              sparse=False), all_variables),\n",
    "        ('ord', StandardScaler(), ord_variables)\n",
    "    ])\n",
    "\n",
    "model_overfit = Pipeline(\n",
    "    steps=[\n",
    "        ('relations', FunctionTransformer(add_relations)), \n",
    "        ('preprocessor', preprocessor_comb),\n",
    "        ('logreg', LogisticRegression(max_iter=200))\n",
    "    ]\n",
    ")"
   ]
  },
  {
   "cell_type": "markdown",
   "metadata": {},
   "source": [
    "Afin de vérifier si notre modèle a bien surappris, on peut regarder ses performances sur l’ensemble d’entraînement et l’ensemble de test. Un modèle qui surapprend aura d’excellentes performances sur l’ensemble d’entraînement et des performances moins bonnes sur l’ensemble de test. En effet,un model qui a surappris va connaître parfaitement les données de la base d'entraînement mais généralisera très mal sur les données de test.  [IMAGE ?]\n",
    "On peut également comparer ce modèle avec notre modèle initial pour observer l'évolution. "
   ]
  },
  {
   "cell_type": "code",
   "execution_count": 13,
   "metadata": {},
   "outputs": [
    {
     "name": "stdout",
     "output_type": "stream",
     "text": [
      "22.6 ms ± 1.21 ms per loop (mean ± std. dev. of 7 runs, 10 loops each)\n",
      "accuracy test : 0.755, accuracy train : 0.785\n"
     ]
    }
   ],
   "source": [
    "#%timeit model.fit(X_train, y_train)\n",
    "#print(f\"accuracy test : {model.score(X_test, y_test):.3f}, \", end='') \n",
    "#print(f\"accuracy train : {model.score(X_train, y_train):.3f}\") \n",
    "\n",
    "print(\"\"\"22.6 ms ± 1.21 ms per loop (mean ± std. dev. of 7 runs, 10 loops each)\n",
    "accuracy test : 0.755, accuracy train : 0.785\"\"\")"
   ]
  },
  {
   "cell_type": "code",
   "execution_count": 14,
   "metadata": {},
   "outputs": [
    {
     "name": "stdout",
     "output_type": "stream",
     "text": [
      "212 ms ± 13.4 ms per loop (mean ± std. dev. of 7 runs, 1 loop each)\n",
      "accuray test : 0.725, accuracy train : 0.958\n"
     ]
    }
   ],
   "source": [
    "#model_overfit.fit(X_train, y_train)\n",
    "#print(f\"accuracy test : {model_over.score(X_test, y_test):.3f}, \", end='')\n",
    "#print(f\"accuracy train : {model_over.score(X_train, y_train):.3f}\") \n",
    "\n",
    "print(\"\"\"212 ms ± 13.4 ms per loop (mean ± std. dev. of 7 runs, 1 loop each)\n",
    "accuray test : 0.725, accuracy train : 0.958\"\"\")"
   ]
  },
  {
   "cell_type": "markdown",
   "metadata": {},
   "source": [
    "Si notre modèle initial a des scores similaires sur l’ensemble de test et l’ensemble d’entraînement, le modèle `model_overfit` a de meilleurs scores sur la base d'entraînement et de moins bons scores sur la base de test, il a bien surappris. Ce surapprentissage implique que des informations concernant la base d’entraînement ont été apprises par le modèle et sont accessibles par quelqu’un qui attaquerait ce modèle surentraîné comme nous l’illustrons dans la partie suivante."
   ]
  },
  {
   "cell_type": "markdown",
   "metadata": {},
   "source": [
    "## Proprety inference\n",
    "\n",
    "On se place dans le cas particulier suivant: la banque allemande ne rend pas publique la proportion de femmes utilisées pour entraîner leur modèle. Un groupe d'individus pense que cette banque se trompe plus régulièrement sur les femmes que sur les hommes et veut prouver que celle-ci n'a pas utilisé un jeu de données équilibré homme/femme pour entraîné leur modèle.\n",
    "\n",
    "L’objectif de l'attaque est ainsi de récupérer la proportion de femmes dans la base de données d'entraînement en ayant simplement accès en boîte noire au modèle de la banque.\n",
    "\n",
    "Afin de simuler le modèle de la banque allemande, on crée un modèle entraîné sur une base de données composée d’une faible proportion de femmes. Ce modèle sera le modèle secret dont on cherchera à déterminer la proportion de femme utilisée dans la base d’entraînement. \n",
    "\n",
    "On commence pour cela par créer une base de données biaisée avec une faible proportion de femmes, puis on entraîne un nouveau modèle sur cette base de données biaisée."
   ]
  },
  {
   "cell_type": "code",
   "execution_count": 15,
   "metadata": {},
   "outputs": [],
   "source": [
    "def gen_entries_woman(n, frac_woman=False):\n",
    "    '''Creates a database with the same distribution as the original for every\n",
    "       variables except for the sex variable which distribution is set to frac'''\n",
    "    \n",
    "    list_entries = []\n",
    "    for col in X.columns:\n",
    "        if col == 'sex':\n",
    "            entries = np.random.choice(['female', 'male'], n, \n",
    "                                       p=[frac_woman, 1-frac_woman])\n",
    "        else:\n",
    "            distribution = (X[col].value_counts(normalize=True)).to_numpy()\n",
    "            entries = np.random.choice(X[col].unique(), n, p=distribution)\n",
    "        list_entries.append(entries)\n",
    "    \n",
    "    return pd.DataFrame(np.array(list_entries).transpose(), columns=X.columns)"
   ]
  },
  {
   "cell_type": "code",
   "execution_count": 16,
   "metadata": {},
   "outputs": [
    {
     "data": {
      "image/png": "[encoded data removed]",
      "text/plain": [
       "<Figure size 432x288 with 2 Axes>"
      ]
     },
     "metadata": {},
     "output_type": "display_data"
    },
    {
     "name": "stdout",
     "output_type": "stream",
     "text": [
      "     Sensitivity  Specificity   Precision     Accuracy  \n",
      "bais     0.89         0.43         0.62         0.75    \n",
      "base     0.86         0.50         0.61         0.76    \n"
     ]
    }
   ],
   "source": [
    "woman_frac = 0.3\n",
    "\n",
    "X_bias = gen_entries_woman(len(X_train), woman_frac)\n",
    "y_bias = logreg.predict(X_bias)\n",
    "\n",
    "#np.random.seed(seed)\n",
    "model_secret = deepcopy(model_overfit.fit(X_bias, y_bias))\n",
    "uti.mesure_clas_list([model_secret, logreg], X_test, y_test, ['bais', 'base'])"
   ]
  },
  {
   "cell_type": "markdown",
   "metadata": {},
   "source": [
    "Nous venons de créer notre modèle secret qui a été entraîné avec une proportion de femmes de 30 %. On veut maintenant savoir si nous sommes capables de retrouver cette proportion en ayant accès à ce modèle en boîte noire uniquement.\n",
    "\n",
    "Pour procéder à l'inférence de propriété on propose la méthode suivante basée sur [lien ?].\n",
    "Dans un premier temps, on cherche à déterminer si la base de données d'entraînement de `model_secret` contient plus d'hommes ou plus de femmes.\n",
    "\n",
    "On commence par générer 150 bases de données dont la fraction de femmes suit une loi normale centrée en 0.4 et d’écart type 0.05. Dans ces bases de données, il y a plus d’hommes que de femmes (en moyenne 60% d’hommes). On génère ensuite 150 bases de données dont la fraction de femmes    suit une loi normale centrée en 0.6 et d’écart type 0.05. Dans ces bases de données, il y a plus de femmes que de d’hommes (en moyenne 40% d’hommes).\n",
    "\n",
    "-----------------------------\n",
    "[RAPPORT]\n",
    "\n",
    "De façon plus détaillée, pour créer une base de données dont la fraction de femmes suit une loi normale centrée en 0.4 :\n",
    "    - on tire aléatoirement une fraction `frac` selon une loi normale centrée en 0.4 d'écart type 0.05.\n",
    "    - on génère des entrées telles que la variable `sex` ait une proportion `frac` de femme dans cette base de données et que les autres variables suivent une loi uniforme.\n",
    "    - on labellise les entrées en utilisant le modèle de départ `logreg`.\n",
    "    \n",
    "----------------------------------- \n",
    "\n",
    "Ensuite pour chaque base de donnée créée, on crée un modèle ( de régression logistique) que l’on entraîne sur la base de données correspondante (soit 300 modèles différents en tout).\n",
    "\n",
    "On crée maintenant un méta modèle `meta_model` qui est une régression logistique qui prend en entrée les coefficients d’un modèle et le place dans la classe 0 ou la classe 1. La classe 0 correspond à un modèle s’étant entraîné sur une base de données ayant moins de filles et la classe 1 à un modèle s’étant entraîné sur une base de données ayant plus de filles. \n",
    "\n",
    "On entraîne ainsi notre méta modèle sur les 300 modèles précédemment créés.\n",
    "\n",
    "On donne enfin le modèle `model_secret` à notre méta modèle et on observe la sortie de celui-ci.\n",
    "Si ce dernier le place dans la classe 0 alors il suppose que le modèle secret s’est entraîné avec moins d’exemples de femmes et s’il le place dans la classe 1 alors il suppose que le modèle secret s’est entraîné avec plus d’exemples de femmes.\n",
    "\n",
    "L’implémentation de ces étapes est faites dans les lignes de codes suivantes.\n"
   ]
  },
  {
   "cell_type": "code",
   "execution_count": 17,
   "metadata": {},
   "outputs": [],
   "source": [
    "def gen_models(architecture, n_models, n_entries, unif=False):\n",
    "    \n",
    "    np.random.seed(seed)\n",
    "    dist_woman = []\n",
    "    \n",
    "    for _ in range(n_models):\n",
    "        mean = np.random.choice([0.4, 0.6])\n",
    "        dist = np.clip(np.random.normal(mean, scale=0.05), 0, 1)\n",
    "        dist_woman.append(dist)\n",
    "    dist_woman = np.array(dist_woman)\n",
    "    \n",
    "    list_X = [gen_entries_woman(n_entries, dist) for dist in tqdm(dist_woman)]\n",
    "    \n",
    "    flatten_list = pd.DataFrame(np.array(list_X).reshape(-1, 21), \n",
    "                                columns=X.columns)\n",
    "    list_y = logreg.predict(flatten_list).reshape(n_models, -1)\n",
    "    \n",
    "    list_models = [deepcopy(model_archi.fit(X, y))\n",
    "                                       for X, y in tqdm(zip(list_X, list_y))]\n",
    "  \n",
    "    return list_models, dist_woman"
   ]
  },
  {
   "cell_type": "code",
   "execution_count": 18,
   "metadata": {},
   "outputs": [],
   "source": [
    "# set the number of database and the number of entries in each\n",
    "n_models = 300\n",
    "n_entries = len(X_train)\n",
    "\n",
    "# chose if the distribution of all variables except 'sex' is choosen with \n",
    "# the distribution of the secret database or uniformaly\n",
    "unif = False\n",
    "\n",
    "# model architechture : model, model_overfit\n",
    "model_archi = model_overfit\n",
    "\n",
    "# names for the file\n",
    "name = '_overfit' if model_archi == model_overfit else ''\n",
    "dist_name = '_unif' if unif else '_prop'\n",
    "\n",
    "\n",
    "if NEW:\n",
    "    list_models, dist_woman = gen_models(model_archi, n_models, n_entries, unif)\n",
    "    meta_X = [model['logreg'].coef_[0] for model in list_models]\n",
    "    \n",
    "    np.savez_compressed(f'data/privacy/data_{name}{dist_name}.npz', \n",
    "                        meta_X=meta_X, \n",
    "                        dist_woman=dist_woman)\n",
    "else:\n",
    "    file = np.load(f'data/privacy/data_{name}{dist_name}.npz', allow_pickle=True)\n",
    "    meta_X = file['meta_X']\n",
    "    dist_woman = file['dist_woman']\n",
    "    \n",
    "meta_y = (dist_woman > 0.5).astype('int')"
   ]
  },
  {
   "cell_type": "markdown",
   "metadata": {},
   "source": [
    "### Visualisation de la répartition de la proportion d'hommes dans les bases de données"
   ]
  },
  {
   "cell_type": "code",
   "execution_count": 19,
   "metadata": {},
   "outputs": [
    {
     "data": {
      "image/png": "[encoded data removed]",
      "text/plain": [
       "<Figure size 432x288 with 1 Axes>"
      ]
     },
     "metadata": {},
     "output_type": "display_data"
    }
   ],
   "source": [
    "plt.hist(dist_woman, density=True, bins=50)\n",
    "plt.xlabel('fraction of woman in database')\n",
    "plt.show()"
   ]
  },
  {
   "cell_type": "markdown",
   "metadata": {},
   "source": [
    "On peut visualiser sur ce graphique que la proportion de femmes dans les bases de données créées sont bien distribuées autour de 0.4 et de 0.6. On a ensuite créé un modèle par base de données et l’avons entraîné sur celle-ci.\n",
    "On va maintenant entraîner notre méta modèle à l’aide des 300 modèles générés."
   ]
  },
  {
   "cell_type": "markdown",
   "metadata": {},
   "source": [
    "### Entraînement du méta-modèle"
   ]
  },
  {
   "cell_type": "code",
   "execution_count": 20,
   "metadata": {},
   "outputs": [
    {
     "name": "stdout",
     "output_type": "stream",
     "text": [
      "(0 : majority of man, 1 : majority of woman)\n",
      "The model predictied : 0\n"
     ]
    }
   ],
   "source": [
    "split = model_selection.train_test_split(meta_X, \n",
    "                                         meta_y,\n",
    "                                         test_size=0.20)\n",
    "X_train_meta, X_test_meta, y_train_meta, y_test_meta = split\n",
    "\n",
    "meta_model = LogisticRegression(max_iter=200)\n",
    "\n",
    "np.random.seed(seed)\n",
    "meta_model.fit(X_train_meta, y_train_meta)\n",
    "\n",
    "pred = meta_model.predict([model_secret['logreg'].coef_[0]])[0]\n",
    "\n",
    "print(\"(0 : majority of man, 1 : majority of woman)\")\n",
    "print(f\"The model predictied : {pred}\")"
   ]
  },
  {
   "cell_type": "markdown",
   "metadata": {},
   "source": [
    "On rappelle que notre méta modèle qui prend en entrée les coefficient d'un modèle et prédit si ce modèle a été entraîné sur une base avec une majorité de femmes ou non."
   ]
  },
  {
   "cell_type": "markdown",
   "metadata": {},
   "source": [
    "Le modèle secret a correctement prédit le fait que la base de données sur laquelle on a entraîné notre modèle est constituée de plus d’hommes que de femmes. \n",
    "\n",
    "Pour mesurer la qualité de la méthode que l’on vient d’implémenter, on utilise notre base de test pour le méta modèle."
   ]
  },
  {
   "cell_type": "code",
   "execution_count": 21,
   "metadata": {},
   "outputs": [
    {
     "data": {
      "image/png": "[encoded data removed]",
      "text/plain": [
       "<Figure size 432x288 with 2 Axes>"
      ]
     },
     "metadata": {},
     "output_type": "display_data"
    },
    {
     "name": "stdout",
     "output_type": "stream",
     "text": [
      "Sensitivity  Specificity   Precision     Accuracy  \n",
      "    0.79         0.84         0.82         0.82    \n"
     ]
    }
   ],
   "source": [
    "uti.mesure_clas(meta_model, X_test_meta, y_test_meta)"
   ]
  },
  {
   "cell_type": "markdown",
   "metadata": {},
   "source": [
    "Les métriques de performance montrent que le méta modèle prédit de façon juste si un modèle s'est entraîné sur une base de données constituée plus d'hommes que de femmes.\n",
    "Nous allons passer à un niveau au-dessus et tenter de prédire la proportion de femmes présente dans la base d'entraînement utilisée pour entraîner un modèle.\n",
    "Pour se faire, nous allons changer notre méta modèle et utiliser une régression linéaire plutôt qu'une régression logistique.\n",
    "La variable cible n'est plus binaire mais continue et correspond à la fraction de femme dans la base d'entraînement utilisée pour entraîner le modèle d'entrée."
   ]
  },
  {
   "cell_type": "markdown",
   "metadata": {},
   "source": [
    "#### Régression linéaire pour trouver la proportion de femmes\n",
    "\n",
    "Pour mesurer la performance de notre méta modèle linéaire on fait le calcul suivant pour les éléments de la base de test:\n",
    "$$\n",
    "| y_{true} - y_{pred} | * 100\n",
    "$$\n",
    "avec $y_{true}$ la fraction de femme de la base d'entraînement, $y_{pred}$ la prédiction du méta modèle. On moyenne ensuite sur l'ensemble des éléments de la base de test pour avoir le pourcentage d'erreurs moyen.\n"
   ]
  },
  {
   "cell_type": "code",
   "execution_count": 22,
   "metadata": {},
   "outputs": [
    {
     "name": "stdout",
     "output_type": "stream",
     "text": [
      "Mean pourcentage error: 7.61\n"
     ]
    }
   ],
   "source": [
    "split = model_selection.train_test_split(meta_X, \n",
    "                                         dist_woman, \n",
    "                                         test_size=0.20, \n",
    "                                         random_state=seed)\n",
    "X_train_meta, X_test_meta, y_train_meta, y_test_meta = split\n",
    "\n",
    "meta_model_linear = LinearRegression()\n",
    "np.random.seed(seed)\n",
    "meta_model_linear.fit(X_train_meta, y_train_meta)\n",
    "\n",
    "y_pred_meta = meta_model_linear.predict(X_test_meta)\n",
    "err = (np.abs(y_test_meta - y_pred_meta) * 100).mean()\n",
    "\n",
    "print(f'Mean pourcentage error: {err:.2f}')"
   ]
  },
  {
   "cell_type": "markdown",
   "metadata": {},
   "source": [
    "Les métriques montrent que l'on a un méta modèle capable de retrouver assez précisément la fraction de femmes utilisées pour entraîner un modèle avec une erreur moyenne de %.\n",
    "Cette erreur est faible si l’on garde en tête le fait que l’on a seulement utilisé les coefficients du modèle pour retrouver cette information qui est propre à la base de données.\n",
    "\n",
    "Regardons maintenant la prédiction du méta modèle sur le modèle secret."
   ]
  },
  {
   "cell_type": "code",
   "execution_count": 23,
   "metadata": {},
   "outputs": [
    {
     "name": "stdout",
     "output_type": "stream",
     "text": [
      "Real       : 0.3\n",
      "Predictied : 0.44\n"
     ]
    }
   ],
   "source": [
    "predict = meta_model_linear.predict(model_secret['logreg'].coef_)\n",
    "true = woman_frac\n",
    "\n",
    "print(f'Real       : {true}')\n",
    "print(f'Predictied : {predict[0]:.2f}')"
   ]
  },
  {
   "cell_type": "markdown",
   "metadata": {},
   "source": [
    "On a une prédiction qui est proche de la proportion de femme présente dans la base de données d'entraînement. On est ainsi satisfait de notre attaque.\n",
    "\n",
    "---\n",
    "[MOD]\n",
    "\n",
    "Cette partie montre donc que lorsque la notion de protection des données n'est pas prise en compte la récupération de modèle ou l'inférence de propriété sont possible. Les hypothèse faites pour les différentes implémentations peuvent être assoupli en fonction de cas mais reste raisonnablement vérifiables. Les méthodes de défense contre la copie de modèles sont majoritairement des méthodes non technique comme la limitation d'utilisation ou une implémentation en API qui permet de contrôler plus précisément les demandes. Pour l'inférence il existe des méthodes que l'on peut implémenter lors de l'entraînement pour rendre plus difficile ces attaques.\n",
    "\n",
    "---"
   ]
  },
  {
   "cell_type": "markdown",
   "metadata": {
    "tags": []
   },
   "source": [
    "---\n",
    "[MOD]\n",
    "\n",
    "## Mitiger les dégâts\n",
    "\n",
    "La méthode la plus populaire pour mitiger les attaques d'inférence est la confidentialité différentielle (*differental privacy*). L'idée fondamentale de cette méthode est l'aléatoire. On introduit à un moment de la conception d'un modèle (soit dans les données, soit lors de l'entraînement) du bruit indépendant des données du modèle. Le but étant de conserver une sortie proche de la sortie d'un modèle sans bruit tout en s'assurant que on ne puisse pas soutirer de cette sortie des informations sur les données du modèle. \n",
    "\n",
    "L'implémentation de cette méthode dépends du modèle statistique choisi, par exemple la confidentialité différentielle pour une régression logistique et un réseau de neurone n'est pas la même. Mais de manière générale la confidentialité différentielle dépends principalement d'un paramètre : $\\epsilon$ \n",
    "\n",
    "La confidentialité différentiable autorise une certaine quantité d'information à fuité et cette quantité est contrôlée par le paramètre $\\epsilon$ appeler le *budget de confidentialité*. Plus la valeur de ce paramètre est petit plus le modèle sera considéré comme protégé. \n",
    "\n",
    "Il existe plusieurs librairies implémentant des outils de confidentialité différentielles qui sont listées dans la dernière partie. \n",
    "Dans notre cas on utilise la librairie *diffprivlib* (IBM) qui permet d'implémenter ces méthodes avec des modèles de *sklearn*.\n",
    "\n",
    "L'implémentation se fait en remplaçant uniquement le modèle de régression logistique dans notre modèle d'origine. On le remplace par la régression logistique de la librairie *diffprivlib*. \n",
    "\n",
    "Pour l'implémentation de cette méthode il faut fixer deux paramètres :\n",
    " - $\\epsilon$ : le budget de confidentialité\n",
    " - $\\delta$ : une borne de régularisation\n",
    " \n",
    "On ne s'occupera pas du deuxième paramètre.\n",
    "\n",
    "---"
   ]
  },
  {
   "cell_type": "code",
   "execution_count": 24,
   "metadata": {},
   "outputs": [],
   "source": [
    "epsilon = 10\n",
    "data_norm = 10\n",
    "\n",
    "model_overfit_diff = Pipeline(\n",
    "    steps=[\n",
    "        ('relations', FunctionTransformer(add_relations)), \n",
    "        ('preprocessor', preprocessor_comb),\n",
    "        # The only difference with model_over\n",
    "        ('logreg', diff.LogisticRegression(max_iter=200, data_norm=data_norm))\n",
    "    ]\n",
    ")"
   ]
  },
  {
   "cell_type": "markdown",
   "metadata": {},
   "source": [
    "---\n",
    "[MOD]\n",
    "\n",
    "Pour vérifier l'implémentation de la confidentialité différentielle on vérifie que lorsque l'on augmente le paramètre $\\epsilon$ on tends vers la performance du modèle sans cette méthode.\n",
    "\n",
    "---"
   ]
  },
  {
   "cell_type": "code",
   "execution_count": 25,
   "metadata": {},
   "outputs": [],
   "source": [
    "if NEW:\n",
    "    results = pd.DataFrame()\n",
    "    for epsilon in tqdm(np.logspace(-3, 4, 40)):\n",
    "        for _ in range(100):\n",
    "            model_overfit_diff.set_params(logreg__epsilon=epsilon)\n",
    "            model_overfit_diff.fit(X_train, y_train)\n",
    "            accuracy = model_overfit_diff.score(X_test, y_test)\n",
    "\n",
    "            results = results.append({'accuracy': accuracy, 'epsilon':epsilon}, \n",
    "                                     ignore_index=True)\n",
    "            \n",
    "    np.savez_compressed(f'data/privacy/diffpriv.npz', results=results)\n",
    "else:\n",
    "    file = np.load(f'data/privacy/diffpriv.npz', allow_pickle=True)\n",
    "    results = pd.DataFrame(file['results'], columns=['accuracy', 'epsilon'])"
   ]
  },
  {
   "cell_type": "code",
   "execution_count": 26,
   "metadata": {},
   "outputs": [
    {
     "data": {
      "image/png": "[encoded data removed]",
      "text/plain": [
       "<Figure size 432x288 with 1 Axes>"
      ]
     },
     "metadata": {},
     "output_type": "display_data"
    }
   ],
   "source": [
    "grid = sns.lineplot(x='epsilon', y='accuracy', data=results)\n",
    "grid.set(xscale=\"log\")\n",
    "plt.show()"
   ]
  },
  {
   "cell_type": "markdown",
   "metadata": {},
   "source": [
    "---\n",
    "[MOD]\n",
    "\n",
    "On observe donc bien la relation entre le paramètre *epsilon* et l'*accuracy*. Plus on relâche la contrainte plus le modèle est performant. On note également que lorsque le budget est trop faible, le modèle devient inutilisable. En effet, un modèle de classification binaire qui prédirait aléatoirement à une *accuracy* de 0.5\n",
    "\n",
    "Pour tester l'efficacité de cette méthode nous allons générer de la même manière que lors de l'attaque d'inférence de propriété une base de données contenant des coefficients de modèles entraînés sans confidentialité différentiel sur des bases de données avec plus ou mon de femme. \n",
    "\n",
    "On créer un méta modèle qui distingue les modèles entraînés sur une base de données avec une majorité de femme ou non. \n",
    "\n",
    "On va ensuite générer des modèles en augmentant progressivement le budget $\\epsilon$ et mesurer le nombre de modèles que notre méta modèle est capable de prédire correctement. \n",
    "\n",
    "On s'attend à voir que plus le budget est faible plus le méta modèle à du mal à distinguer les deux cas. \n",
    "\n",
    "---"
   ]
  },
  {
   "cell_type": "code",
   "execution_count": 27,
   "metadata": {
    "tags": []
   },
   "outputs": [],
   "source": [
    "n_models = 300\n",
    "n_entries = len(X_train)\n",
    "\n",
    "# chose if the distribution of all variables except 'sex' is choosen with \n",
    "# the distribution of the secret database or uniformaly\n",
    "unif = False\n",
    "\n",
    "dist_name = '_unif' if unif else '_prop'\n",
    "\n",
    "# setting epsilon as 'inf' is the same as having no differential privacy\n",
    "model_overfit_diff.set_params(logreg__epsilon=float('inf'))\n",
    "model_archi = model_overfit_diff\n",
    "\n",
    "if NEW:\n",
    "    list_models, dist_woman = gen_models(model_archi, n_models, n_entries, unif)\n",
    "    \n",
    "    meta_X_train = [model['logreg'].coef_[0] for model in list_models]\n",
    "    meta_y_train = (dist_woman > 0.5).astype('int')\n",
    "    \n",
    "    np.savez_compressed(f'data/privacy/data_diff{dist_name}.npz', \n",
    "                        meta_X_train=meta_X_train, \n",
    "                        meta_y_train=meta_y_train)\n",
    "else:\n",
    "    file = np.load(f'data/privacy/data_diff{dist_name}.npz', allow_pickle=True)\n",
    "    meta_X_train = file['meta_X_train']\n",
    "    meta_y_train = file['meta_y_train']"
   ]
  },
  {
   "cell_type": "code",
   "execution_count": 28,
   "metadata": {},
   "outputs": [
    {
     "data": {
      "text/plain": [
       "LogisticRegression(max_iter=200)"
      ]
     },
     "execution_count": 28,
     "metadata": {},
     "output_type": "execute_result"
    }
   ],
   "source": [
    "meta_model = LogisticRegression(max_iter=200)\n",
    "meta_model.fit(meta_X_train, meta_y_train)"
   ]
  },
  {
   "cell_type": "code",
   "execution_count": 38,
   "metadata": {
    "tags": []
   },
   "outputs": [],
   "source": [
    "n_models = 100\n",
    "n_entries = len(X_train)\n",
    "\n",
    "columns=['epsilon', 'accuracy', 'sensitivity', \n",
    "         'specificity', 'precision']\n",
    "\n",
    "model_archi = model_overfit_diff\n",
    "\n",
    "if NEW:\n",
    "    list_score, list_meta_score = [], []\n",
    "    for epsilon in np.logspace(-1, 5, 10):\n",
    "        model_archi.set_params(logreg__epsilon=epsilon)\n",
    "        list_models, dist_woman = gen_models(model_archi, n_models, n_entries)\n",
    "        \n",
    "        meta_X_test = [model['logreg'].coef_[0] for model in list_models] \n",
    "        meta_y_test = (dist_woman > 0.5).astype('int')\n",
    "        \n",
    "        list_meta_score.append(meta_model.score(meta_X_test, meta_y_test))\n",
    "        \n",
    "        list_score.append([model.score(y_test, model.predict(X_test)) \n",
    "                                           for model in list_models])\n",
    "       \n",
    "    np.savez_compressed(f'data/privacy/data_diff{dist_name}_test.npz', \n",
    "                        list_meta_score=list_meta_score,\n",
    "                        list_socre=list_score)\n",
    "else:\n",
    "    file = np.load(f'data/privacy/data_diff{dist_name}_test.npz', allow_pickle=True)\n",
    "    list_score = file['list_socre']\n",
    "    list_meta_score = file['list_meta_score']"
   ]
  },
  {
   "cell_type": "code",
   "execution_count": 39,
   "metadata": {},
   "outputs": [
    {
     "data": {
      "image/png": "[encoded data removed]",
      "text/plain": [
       "<Figure size 432x288 with 1 Axes>"
      ]
     },
     "metadata": {},
     "output_type": "display_data"
    }
   ],
   "source": [
    "plt.plot(range(10), np.array(list_score).mean(axis=1))\n",
    "plt.plot(range(10), np.array(list_meta_score))\n",
    "plt.show()"
   ]
  },
  {
   "cell_type": "markdown",
   "metadata": {},
   "source": [
    "---\n",
    "[MOD]\n",
    "\n",
    "Ce graphique montre bien l'effet de la confidentialité différentiable sur l'attaque d'inférence de propriété et le compromis qui existe entre la confidentialité et les performance de la méthode. \n",
    "Plus le budget $\\epsilon$ augmente plus l'attaque est efficace, lorsqu'il est vers 0.1 l'attaque ne parvient pas à distinguer entre les modèles entraîné sur des bases avec plus de femmes et les autres. Cela est vrai jusqu'à un $\\epsilon$ proche de 100 où le méta modèle parvient à faire mieux qu'une classification aléatoire. Vers $\\epsilon$ proche de 10000, le modèle est capable presque à chaque fois de prédire juste.\n",
    "On remarque également que les modèles sous-jacents, ceux que le méta modèle essai de classifier, sont de plus en plus performant à mesure que le budget augmente. \n",
    "\n",
    "Le modèle idéal est donc un modèle résistant au mieux à cette attaque tout en étant le plus performant possible. Il faut donc choisir un $\\epsilon$ qui sépare le plus possible les deux courbes, ici proche de 100.\n",
    "\n",
    "---"
   ]
  },
  {
   "cell_type": "markdown",
   "metadata": {
    "tags": [],
    "toc-hr-collapsed": true
   },
   "source": [
    "# Partie 3\n",
    "\n",
    "Nous avons pu voir dans la partie précédente que le fait de négliger l’aspect protection des données lors de l’entraînement d’un modèle laissait la possibilité à une personne mal intentionnée de récupérer les paramètres de ce modèle ou d’avoir accès à des informations sur la base de données utilisée pour l'entraînement de ce dernier. Des solutions telles que le *differential privacy* impliquent un apprentissage dit “agrégé” qui permet de protéger les données d’entraînement. L’utilisation de ces solutions reste délicate et les raisons à cela sont données dans les paragraphes suivants.\n",
    "\n",
    "## Le manque de ressource rend la prise en main des librairies difficile.\n",
    "\n",
    "On constate qu’il y a trois librairies principales pour protéger la *privacy* :\n",
    "\n",
    " - Diffprivlib : développée par IBM depuis 2019\n",
    " - OpenDP : développée par OpenDP (Harvard) depuis 2019\n",
    " - Opacus : développée par Facebook depuis 2020\n",
    " - TensorFlow Privacy : dévoloppée par Google depuis 2019\n",
    " \n",
    "Elles ont en commun d’être très récentes, elles sont donc plus difficiles à mettre en œuvre à cause du manque d’exemples et de retour utilisateur. Par exemple, la librairie *Diffprivlib* a une documentation claire et précise mais qui ne contient pas d’exemple d’implémentation. Ces exemples sont présents dans un autre dossier dans le  code du projet et restent assez peu nombreux. À cela s’ajoute le manque d’échange sur les plateforme d'entraide comme *stack overflow*. Pour *Diffprivlib* et *Opacus* on ne trouve que deux questions sans réponses et pour *OpenDP*, aucune question n’est présente. Ces échanges sont très importants pour le développement de ces libraires car ils proposent des exemples de cas réels et facilitent la compréhension des implémentations. La démocratisation de ces outils est donc très importante pour une adoption des outils. Pour espérer que cela soit le cas, il faut évidemment continuer de développer ces librairies, mais surtout d’encourager le maximum de personnes avec des connaissances techniques à utiliser les outils et de proposer un retour. La création d’exemples pertinents présents dans la documentation viendra de cet échange entre développeur et utilisateur. De plus, ces échanges permettent bien souvent d’avoir des avis sur les avantages et les inconvénients des différentes méthodes existantes. Les trois librairies ne contiennent d’ailleurs aucun document de comparaison. Tous ces problèmes impliquent qu’aujourd’hui si un individu s’intéresse à la protection des données dans des modèles statistiques il doit s’instruire de manière importante sur le sujet et avoir une idée très claire de ce qu’il cherche avant d’implémenter les méthodes. Encourager des méta analyses pourrait dans ce sens abaisser la barrière d’entrée en permettant de créer des intuitions sur les avantages et les inconvénient des méthodes de la protection des données. Ce manque de ressource est évidemment un frein pour les individus mais pour les industriels ces librairies sont d’autant plus difficile à mettre en place qu’ils ne sont pas les cibles de celles-ci.\n",
    "\n",
    "## Le public visé par ces librairies ne permet pas une mise en œuvre efficace en entreprise.\n",
    "\n",
    "Les trois librairies citées plus haut ont des méthodes et de la documentation d’une grande précision, mais elles ont l’inconvénient d’avoir été écrites pour des développeurs et des scientifiques et non pas des industriels. Comme dit plus haut, les concepteurs de ces librairies partent du principe que l’utilisateur à une bonne connaissance des dernières recherches en apprentissage statistique. Or, avant d’être un problème académique, la protection de la vie privée est un problème opérationnel. Les méthodes utiles pour des problèmes concrets sont perdues parmi les dizaines d’implémentations des dernières publications dans le domaine. Par exemple, *Opacus* ne s’implémente que sur des modèles codés en *PyTorch*, la librairie d’apprentissage profond de Facebook, et ne propose que trois exemples sur des réseaux complexes et récents (image classifier, text classifier, LSTM). Ces exemples sont intéressants d’un point de vue technique mais ne prennent pas en compte l’écart qu’il existe entre la réalité industrielle et le monde académique. Dans la majorité des cas les modèles utilisés sont soit relativement simples comme des régressions ou des arbres de décisions soit les modèles proviennent d’outils qui proposent des modèles complexes prêt à l'emploi. Pour une adoption rapide des méthodes de protection des données, il faut se concentrer sur la clarté et la simplicité des modèles utilisés en industries ou inclure ces méthodes dans les modèles pré-entraînés. \n",
    "Ces changements sont possibles si les industriels s'approprient le sujet. Tout comme l’exemple de *Hugging face* qui a démocratisé les modèles complexes de traitement du langage en s'adressant aux entreprises, on peut très bien imaginer qu’une entreprise s’empare du sujet. Il faut également poursuivre la production de communication non scientifique pour susciter une prise de conscience.\n",
    "\n",
    "## Il existe un arbitrage fort entre performance et privacy\n",
    "\n",
    "La dernière remarque sur cette partie est que l’utilisation de la privacy a un impact négatif sur le temps d'entraînement du modèle ou bien sur les performances de celui-ci. Protéger notre modèle implique donc de faire des concessions et comme nous allons le voir, il est possible de choisir les concessions que l’on souhaite faire. \n",
    "L’ajout de calcul à tout moment de l’implémentation d’un modèle entraîne un temps d'entraînement ou d'exécution plus long. Il faut donc choisir entre la mise en place d’un grand nombre de sécurité ou une utilisation rapide du modèle, cela dépendra de l'importance que l’on porte à la protection des données du modèle. Mais le temps n’est pas la seule contrainte, des méthodes de protection des données ont une influence sur les performances du modèle. Par exemple, le *differential privacy* permet de contrôler l’impacte de la méthode sur l’*accuracy* (la précision) d’un modèle. Un des paramètres de cette méthode est justement la variation maximale de l’*accuracy* que l’on est prêt à tolérer lors de l’ajout ou du retrait d’un élément de la base d’entraînement. Ce contrôle ne s’applique que pour la métrique d’*accuracy* mais il existe un grand nombre d’autres métriques permettant de rendre compte de la performance d’un modèle. Pour celles-ci, l'expérimentation est encore la meilleure solution. Il est intéressant de noter que des concessions sont également nécessaires entre les trois notions présentées dans ce rapport. Par exemple [arxiv.org/pdf/1905.12101.pdf] Bagdasaryan & Shmatikov (2019) démontre que l’impact de l’*accuracy* entraînait des conséquences non symétriques sur tous les groupes d’entrées. Ainsi les groupes sous représentés étaient plus touchés par la perte d’*accuracy*. De même, l'obfuscation de l'architecture ou des résultats qui permettra une meilleure contrôle sur la sécurité des données mais empêche d'implémenter des outils d’explications de décision. C’est ainsi que la protection des données d’un modèle peut se faire au détriment de la transparence. \n",
    "On a donc besoin de documents non techniques et de communication lorsque l’on explique les enjeux de la notion de protection des données. Comprendre les différentes options possibles et surtout rendre claire que la mise en place des outils implique des compromis. Des comparaisons des différentes méthodes et de leur impact sur les métriques devraient être présentes dans les exemples de librairies. \n"
   ]
  },
  {
   "cell_type": "code",
   "execution_count": null,
   "metadata": {},
   "outputs": [],
   "source": []
  }
 ],
 "metadata": {
  "kernelspec": {
   "display_name": "Python 3 (ipykernel)",
   "language": "python",
   "name": "python3"
  },
  "language_info": {
   "codemirror_mode": {
    "name": "ipython",
    "version": 3
   },
   "file_extension": ".py",
   "mimetype": "text/x-python",
   "name": "python",
   "nbconvert_exporter": "python",
   "pygments_lexer": "ipython3",
   "version": "3.9.6"
  }
 },
 "nbformat": 4,
 "nbformat_minor": 4
}
